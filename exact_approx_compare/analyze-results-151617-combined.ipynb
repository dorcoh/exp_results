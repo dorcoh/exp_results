{
 "cells": [
  {
   "cell_type": "code",
   "execution_count": 1,
   "metadata": {
    "collapsed": true
   },
   "outputs": [],
   "source": [
    "import pandas as pd\n",
    "import matplotlib.pyplot as plt\n",
    "import math\n",
    "import numpy as np\n",
    "from mpl_toolkits.mplot3d import Axes3D\n",
    "%matplotlib inline\n",
    "plt.rcParams['figure.figsize'] = (15.0, 5.0) # set default size of plots\n",
    "#plt.rcParams['image.interpolation'] = 'nearest'\n",
    "#plt.rcParams['image.cmap'] = 'gray'\n"
   ]
  },
  {
   "cell_type": "markdown",
   "metadata": {},
   "source": [
    "## Combine data frames"
   ]
  },
  {
   "cell_type": "code",
   "execution_count": 2,
   "metadata": {
    "collapsed": true
   },
   "outputs": [],
   "source": [
    "def sanity_check(df):\n",
    "    print df.shape\n",
    "    print \"num formulas: %d\" % (df.shape[0] / 21)\n",
    "    print \"parity: %d\" % float(df.shape[0] % 21)"
   ]
  },
  {
   "cell_type": "code",
   "execution_count": 3,
   "metadata": {},
   "outputs": [
    {
     "name": "stdout",
     "output_type": "stream",
     "text": [
      "(861, 15)\n",
      "num formulas: 41\n",
      "parity: 0\n",
      "(441, 15)\n",
      "num formulas: 21\n",
      "parity: 0\n"
     ]
    }
   ],
   "source": [
    "dfa = pd.read_csv('joined15.csv')\n",
    "dfb = pd.read_csv('joined1617.csv')\n",
    "sanity_check(dfa)\n",
    "sanity_check(dfb)"
   ]
  },
  {
   "cell_type": "code",
   "execution_count": 4,
   "metadata": {},
   "outputs": [
    {
     "name": "stdout",
     "output_type": "stream",
     "text": [
      "(1302, 15)\n",
      "num formulas: 62\n",
      "parity: 0\n"
     ]
    }
   ],
   "source": [
    "df = dfa.append(dfb, ignore_index=True)\n",
    "sanity_check(df)"
   ]
  },
  {
   "cell_type": "code",
   "execution_count": 5,
   "metadata": {},
   "outputs": [
    {
     "data": {
      "text/html": [
       "<div>\n",
       "<style>\n",
       "    .dataframe thead tr:only-child th {\n",
       "        text-align: right;\n",
       "    }\n",
       "\n",
       "    .dataframe thead th {\n",
       "        text-align: left;\n",
       "    }\n",
       "\n",
       "    .dataframe tbody tr th {\n",
       "        vertical-align: top;\n",
       "    }\n",
       "</style>\n",
       "<table border=\"1\" class=\"dataframe\">\n",
       "  <thead>\n",
       "    <tr style=\"text-align: right;\">\n",
       "      <th></th>\n",
       "      <th>experiment</th>\n",
       "      <th>solver</th>\n",
       "      <th>formula</th>\n",
       "      <th>variables</th>\n",
       "      <th>clauses</th>\n",
       "      <th>runtime</th>\n",
       "      <th>conflicts</th>\n",
       "      <th>decisions</th>\n",
       "      <th>restarts</th>\n",
       "      <th>propagations</th>\n",
       "      <th>entropy</th>\n",
       "      <th>backbone</th>\n",
       "      <th>num_sols</th>\n",
       "      <th>chi_square</th>\n",
       "      <th>cpu_time</th>\n",
       "    </tr>\n",
       "  </thead>\n",
       "  <tbody>\n",
       "  </tbody>\n",
       "</table>\n",
       "</div>"
      ],
      "text/plain": [
       "Empty DataFrame\n",
       "Columns: [experiment, solver, formula, variables, clauses, runtime, conflicts, decisions, restarts, propagations, entropy, backbone, num_sols, chi_square, cpu_time]\n",
       "Index: []"
      ]
     },
     "execution_count": 5,
     "metadata": {},
     "output_type": "execute_result"
    }
   ],
   "source": [
    "df[df.duplicated(subset=['experiment','solver', 'formula'])]"
   ]
  },
  {
   "cell_type": "code",
   "execution_count": 6,
   "metadata": {
    "collapsed": true
   },
   "outputs": [],
   "source": [
    "df.to_csv('approx.csv', index=False)"
   ]
  },
  {
   "cell_type": "markdown",
   "metadata": {},
   "source": [
    "No duplicated formulas from 15,16,17 competitions"
   ]
  },
  {
   "cell_type": "markdown",
   "metadata": {},
   "source": [
    "## Perform data preperation"
   ]
  },
  {
   "cell_type": "code",
   "execution_count": 6,
   "metadata": {},
   "outputs": [
    {
     "data": {
      "text/html": [
       "<div>\n",
       "<style>\n",
       "    .dataframe thead tr:only-child th {\n",
       "        text-align: right;\n",
       "    }\n",
       "\n",
       "    .dataframe thead th {\n",
       "        text-align: left;\n",
       "    }\n",
       "\n",
       "    .dataframe tbody tr th {\n",
       "        vertical-align: top;\n",
       "    }\n",
       "</style>\n",
       "<table border=\"1\" class=\"dataframe\">\n",
       "  <thead>\n",
       "    <tr style=\"text-align: right;\">\n",
       "      <th></th>\n",
       "      <th>experiment</th>\n",
       "      <th>solver</th>\n",
       "      <th>formula</th>\n",
       "      <th>variables</th>\n",
       "      <th>clauses</th>\n",
       "      <th>runtime</th>\n",
       "      <th>conflicts</th>\n",
       "      <th>decisions</th>\n",
       "      <th>restarts</th>\n",
       "      <th>propagations</th>\n",
       "      <th>entropy</th>\n",
       "      <th>backbone</th>\n",
       "      <th>num_sols</th>\n",
       "      <th>chi_square</th>\n",
       "      <th>cpu_time</th>\n",
       "    </tr>\n",
       "  </thead>\n",
       "  <tbody>\n",
       "    <tr>\n",
       "      <th>0</th>\n",
       "      <td>exp2</td>\n",
       "      <td>COMiniSatPS-6</td>\n",
       "      <td>40bits_10.dimacs.cnf</td>\n",
       "      <td>446</td>\n",
       "      <td>12980</td>\n",
       "      <td>61.07870</td>\n",
       "      <td>224458</td>\n",
       "      <td>255797</td>\n",
       "      <td>475.0</td>\n",
       "      <td>16165613</td>\n",
       "      <td>0.130045</td>\n",
       "      <td>0.869955</td>\n",
       "      <td>2.0</td>\n",
       "      <td>0.0</td>\n",
       "      <td>4.79127</td>\n",
       "    </tr>\n",
       "    <tr>\n",
       "      <th>1</th>\n",
       "      <td>exp2</td>\n",
       "      <td>COMiniSatPS-5</td>\n",
       "      <td>40bits_10.dimacs.cnf</td>\n",
       "      <td>446</td>\n",
       "      <td>12980</td>\n",
       "      <td>36.70640</td>\n",
       "      <td>234944</td>\n",
       "      <td>274595</td>\n",
       "      <td>367.0</td>\n",
       "      <td>14949163</td>\n",
       "      <td>0.130045</td>\n",
       "      <td>0.869955</td>\n",
       "      <td>2.0</td>\n",
       "      <td>0.0</td>\n",
       "      <td>4.79127</td>\n",
       "    </tr>\n",
       "    <tr>\n",
       "      <th>2</th>\n",
       "      <td>exp5</td>\n",
       "      <td>wrapper-60</td>\n",
       "      <td>40bits_10.dimacs.cnf</td>\n",
       "      <td>446</td>\n",
       "      <td>12980</td>\n",
       "      <td>15.73160</td>\n",
       "      <td>117363</td>\n",
       "      <td>154663</td>\n",
       "      <td>356.0</td>\n",
       "      <td>4992154</td>\n",
       "      <td>0.130045</td>\n",
       "      <td>0.869955</td>\n",
       "      <td>2.0</td>\n",
       "      <td>0.0</td>\n",
       "      <td>4.79127</td>\n",
       "    </tr>\n",
       "    <tr>\n",
       "      <th>3</th>\n",
       "      <td>exp4</td>\n",
       "      <td>wrapper-glucose</td>\n",
       "      <td>40bits_10.dimacs.cnf</td>\n",
       "      <td>446</td>\n",
       "      <td>12980</td>\n",
       "      <td>2.13967</td>\n",
       "      <td>26069</td>\n",
       "      <td>32948</td>\n",
       "      <td>64.0</td>\n",
       "      <td>979665</td>\n",
       "      <td>0.130045</td>\n",
       "      <td>0.869955</td>\n",
       "      <td>2.0</td>\n",
       "      <td>0.0</td>\n",
       "      <td>4.79127</td>\n",
       "    </tr>\n",
       "    <tr>\n",
       "      <th>4</th>\n",
       "      <td>exp2</td>\n",
       "      <td>COMiniSatPS-4</td>\n",
       "      <td>40bits_10.dimacs.cnf</td>\n",
       "      <td>446</td>\n",
       "      <td>12980</td>\n",
       "      <td>48.07070</td>\n",
       "      <td>222780</td>\n",
       "      <td>258214</td>\n",
       "      <td>319.0</td>\n",
       "      <td>15949794</td>\n",
       "      <td>0.130045</td>\n",
       "      <td>0.869955</td>\n",
       "      <td>2.0</td>\n",
       "      <td>0.0</td>\n",
       "      <td>4.79127</td>\n",
       "    </tr>\n",
       "  </tbody>\n",
       "</table>\n",
       "</div>"
      ],
      "text/plain": [
       "  experiment           solver               formula  variables  clauses  \\\n",
       "0       exp2    COMiniSatPS-6  40bits_10.dimacs.cnf        446    12980   \n",
       "1       exp2    COMiniSatPS-5  40bits_10.dimacs.cnf        446    12980   \n",
       "2       exp5       wrapper-60  40bits_10.dimacs.cnf        446    12980   \n",
       "3       exp4  wrapper-glucose  40bits_10.dimacs.cnf        446    12980   \n",
       "4       exp2    COMiniSatPS-4  40bits_10.dimacs.cnf        446    12980   \n",
       "\n",
       "    runtime  conflicts  decisions  restarts  propagations   entropy  backbone  \\\n",
       "0  61.07870     224458     255797     475.0      16165613  0.130045  0.869955   \n",
       "1  36.70640     234944     274595     367.0      14949163  0.130045  0.869955   \n",
       "2  15.73160     117363     154663     356.0       4992154  0.130045  0.869955   \n",
       "3   2.13967      26069      32948      64.0        979665  0.130045  0.869955   \n",
       "4  48.07070     222780     258214     319.0      15949794  0.130045  0.869955   \n",
       "\n",
       "   num_sols  chi_square  cpu_time  \n",
       "0       2.0         0.0   4.79127  \n",
       "1       2.0         0.0   4.79127  \n",
       "2       2.0         0.0   4.79127  \n",
       "3       2.0         0.0   4.79127  \n",
       "4       2.0         0.0   4.79127  "
      ]
     },
     "execution_count": 6,
     "metadata": {},
     "output_type": "execute_result"
    }
   ],
   "source": [
    "df.head()"
   ]
  },
  {
   "cell_type": "markdown",
   "metadata": {},
   "source": [
    "### Timeout formulas (Oh's experiments)"
   ]
  },
  {
   "cell_type": "code",
   "execution_count": 7,
   "metadata": {},
   "outputs": [
    {
     "data": {
      "text/html": [
       "<div>\n",
       "<style>\n",
       "    .dataframe thead tr:only-child th {\n",
       "        text-align: right;\n",
       "    }\n",
       "\n",
       "    .dataframe thead th {\n",
       "        text-align: left;\n",
       "    }\n",
       "\n",
       "    .dataframe tbody tr th {\n",
       "        vertical-align: top;\n",
       "    }\n",
       "</style>\n",
       "<table border=\"1\" class=\"dataframe\">\n",
       "  <thead>\n",
       "    <tr style=\"text-align: right;\">\n",
       "      <th></th>\n",
       "      <th>experiment</th>\n",
       "      <th>solver</th>\n",
       "      <th>formula</th>\n",
       "      <th>variables</th>\n",
       "      <th>clauses</th>\n",
       "      <th>runtime</th>\n",
       "      <th>conflicts</th>\n",
       "      <th>decisions</th>\n",
       "      <th>restarts</th>\n",
       "      <th>propagations</th>\n",
       "      <th>entropy</th>\n",
       "      <th>backbone</th>\n",
       "      <th>num_sols</th>\n",
       "      <th>chi_square</th>\n",
       "      <th>cpu_time</th>\n",
       "    </tr>\n",
       "  </thead>\n",
       "  <tbody>\n",
       "    <tr>\n",
       "      <th>637</th>\n",
       "      <td>exp2</td>\n",
       "      <td>COMiniSatPS-5</td>\n",
       "      <td>aes_32_3_keyfind_1.cnf</td>\n",
       "      <td>0</td>\n",
       "      <td>0</td>\n",
       "      <td>0.0</td>\n",
       "      <td>0</td>\n",
       "      <td>0</td>\n",
       "      <td>0.0</td>\n",
       "      <td>0</td>\n",
       "      <td>0.0</td>\n",
       "      <td>1.0</td>\n",
       "      <td>1.0</td>\n",
       "      <td>0.0</td>\n",
       "      <td>2709.81</td>\n",
       "    </tr>\n",
       "    <tr>\n",
       "      <th>638</th>\n",
       "      <td>exp2</td>\n",
       "      <td>COMiniSatPS-6</td>\n",
       "      <td>aes_32_3_keyfind_1.cnf</td>\n",
       "      <td>0</td>\n",
       "      <td>0</td>\n",
       "      <td>0.0</td>\n",
       "      <td>0</td>\n",
       "      <td>0</td>\n",
       "      <td>0.0</td>\n",
       "      <td>0</td>\n",
       "      <td>0.0</td>\n",
       "      <td>1.0</td>\n",
       "      <td>1.0</td>\n",
       "      <td>0.0</td>\n",
       "      <td>2709.81</td>\n",
       "    </tr>\n",
       "    <tr>\n",
       "      <th>647</th>\n",
       "      <td>exp2</td>\n",
       "      <td>COMiniSatPS-4</td>\n",
       "      <td>aes_32_3_keyfind_1.cnf</td>\n",
       "      <td>0</td>\n",
       "      <td>0</td>\n",
       "      <td>0.0</td>\n",
       "      <td>0</td>\n",
       "      <td>0</td>\n",
       "      <td>0.0</td>\n",
       "      <td>0</td>\n",
       "      <td>0.0</td>\n",
       "      <td>1.0</td>\n",
       "      <td>1.0</td>\n",
       "      <td>0.0</td>\n",
       "      <td>2709.81</td>\n",
       "    </tr>\n",
       "    <tr>\n",
       "      <th>1265</th>\n",
       "      <td>exp2</td>\n",
       "      <td>COMiniSatPS-6</td>\n",
       "      <td>aes_32_3_keyfind_2.cnf</td>\n",
       "      <td>0</td>\n",
       "      <td>0</td>\n",
       "      <td>0.0</td>\n",
       "      <td>0</td>\n",
       "      <td>0</td>\n",
       "      <td>0.0</td>\n",
       "      <td>0</td>\n",
       "      <td>0.0</td>\n",
       "      <td>1.0</td>\n",
       "      <td>1.0</td>\n",
       "      <td>0.0</td>\n",
       "      <td>1973.15</td>\n",
       "    </tr>\n",
       "  </tbody>\n",
       "</table>\n",
       "</div>"
      ],
      "text/plain": [
       "     experiment         solver                 formula  variables  clauses  \\\n",
       "637        exp2  COMiniSatPS-5  aes_32_3_keyfind_1.cnf          0        0   \n",
       "638        exp2  COMiniSatPS-6  aes_32_3_keyfind_1.cnf          0        0   \n",
       "647        exp2  COMiniSatPS-4  aes_32_3_keyfind_1.cnf          0        0   \n",
       "1265       exp2  COMiniSatPS-6  aes_32_3_keyfind_2.cnf          0        0   \n",
       "\n",
       "      runtime  conflicts  decisions  restarts  propagations  entropy  \\\n",
       "637       0.0          0          0       0.0             0      0.0   \n",
       "638       0.0          0          0       0.0             0      0.0   \n",
       "647       0.0          0          0       0.0             0      0.0   \n",
       "1265      0.0          0          0       0.0             0      0.0   \n",
       "\n",
       "      backbone  num_sols  chi_square  cpu_time  \n",
       "637        1.0       1.0         0.0   2709.81  \n",
       "638        1.0       1.0         0.0   2709.81  \n",
       "647        1.0       1.0         0.0   2709.81  \n",
       "1265       1.0       1.0         0.0   1973.15  "
      ]
     },
     "execution_count": 7,
     "metadata": {},
     "output_type": "execute_result"
    }
   ],
   "source": [
    "# timeout formulas (for Oh's experiments)\n",
    "df[df['variables'] == 0]"
   ]
  },
  {
   "cell_type": "code",
   "execution_count": 14,
   "metadata": {
    "scrolled": true
   },
   "outputs": [
    {
     "name": "stdout",
     "output_type": "stream",
     "text": [
      "set(['aes_32_3_keyfind_2.cnf', 'aes_32_3_keyfind_1.cnf'])\n",
      "[637, 638, 647, 1265]\n"
     ]
    }
   ],
   "source": [
    "# find timeout formulas\n",
    "terminated_formulas = set()\n",
    "terminated_indices = list() \n",
    "for index, row in df[df['variables'] <= 0].iterrows():\n",
    "    terminated_formulas.add(row['formula'])\n",
    "    terminated_indices.append(index)\n",
    "\n",
    "print terminated_formulas\n",
    "print terminated_indices\n",
    "df[df['formula'].isin(terminated_formulas)].sort_values(by=['formula','experiment','solver']).to_csv('two_timedout_formulas.csv')"
   ]
  },
  {
   "cell_type": "markdown",
   "metadata": {
    "collapsed": true
   },
   "source": [
    "#### find all terminated indices (for all other experiments too), or should we just delete those rows?"
   ]
  },
  {
   "cell_type": "code",
   "execution_count": null,
   "metadata": {
    "collapsed": true,
    "scrolled": false
   },
   "outputs": [],
   "source": [
    "#df.drop(terminated_indices, inplace=True)\n",
    "#sanity_check(df)"
   ]
  },
  {
   "cell_type": "markdown",
   "metadata": {},
   "source": [
    "will delete them below"
   ]
  },
  {
   "cell_type": "markdown",
   "metadata": {},
   "source": [
    "### Check formulas runtime statistics across all engines"
   ]
  },
  {
   "cell_type": "code",
   "execution_count": 106,
   "metadata": {},
   "outputs": [
    {
     "data": {
      "text/html": [
       "<div>\n",
       "<style>\n",
       "    .dataframe thead tr:only-child th {\n",
       "        text-align: right;\n",
       "    }\n",
       "\n",
       "    .dataframe thead th {\n",
       "        text-align: left;\n",
       "    }\n",
       "\n",
       "    .dataframe tbody tr th {\n",
       "        vertical-align: top;\n",
       "    }\n",
       "</style>\n",
       "<table border=\"1\" class=\"dataframe\">\n",
       "  <thead>\n",
       "    <tr style=\"text-align: right;\">\n",
       "      <th></th>\n",
       "      <th>entropy</th>\n",
       "      <th>num_sols</th>\n",
       "      <th>variables</th>\n",
       "      <th>mean</th>\n",
       "      <th>median</th>\n",
       "      <th>std</th>\n",
       "    </tr>\n",
       "    <tr>\n",
       "      <th>formula</th>\n",
       "      <th></th>\n",
       "      <th></th>\n",
       "      <th></th>\n",
       "      <th></th>\n",
       "      <th></th>\n",
       "      <th></th>\n",
       "    </tr>\n",
       "  </thead>\n",
       "  <tbody>\n",
       "    <tr>\n",
       "      <th>mp1-klieber2017s-0500-024-t12.cnf</th>\n",
       "      <td>0.000000</td>\n",
       "      <td>1.000000e+00</td>\n",
       "      <td>30935.000000</td>\n",
       "      <td>1264.177000</td>\n",
       "      <td>784.20900</td>\n",
       "      <td>1222.552242</td>\n",
       "    </tr>\n",
       "    <tr>\n",
       "      <th>mp1-klieber2017s-0500-023-t12.cnf</th>\n",
       "      <td>0.000000</td>\n",
       "      <td>1.000000e+00</td>\n",
       "      <td>30587.000000</td>\n",
       "      <td>616.614338</td>\n",
       "      <td>455.52700</td>\n",
       "      <td>608.412865</td>\n",
       "    </tr>\n",
       "    <tr>\n",
       "      <th>mp1-klieber2017s-0500-022-t12.cnf</th>\n",
       "      <td>0.000000</td>\n",
       "      <td>1.000000e+00</td>\n",
       "      <td>30894.000000</td>\n",
       "      <td>276.408448</td>\n",
       "      <td>127.98000</td>\n",
       "      <td>337.854136</td>\n",
       "    </tr>\n",
       "    <tr>\n",
       "      <th>mp1-klieber2017s-0490-024-t12.cnf</th>\n",
       "      <td>0.000000</td>\n",
       "      <td>1.000000e+00</td>\n",
       "      <td>30503.000000</td>\n",
       "      <td>1560.008748</td>\n",
       "      <td>745.25900</td>\n",
       "      <td>1516.748450</td>\n",
       "    </tr>\n",
       "    <tr>\n",
       "      <th>mp1-klieber2017s-0490-023-t12.cnf</th>\n",
       "      <td>0.000000</td>\n",
       "      <td>1.000000e+00</td>\n",
       "      <td>30833.000000</td>\n",
       "      <td>853.044886</td>\n",
       "      <td>557.79400</td>\n",
       "      <td>773.543876</td>\n",
       "    </tr>\n",
       "    <tr>\n",
       "      <th>vmpc_29.cnf</th>\n",
       "      <td>0.000000</td>\n",
       "      <td>1.000000e+00</td>\n",
       "      <td>841.000000</td>\n",
       "      <td>558.079186</td>\n",
       "      <td>315.50200</td>\n",
       "      <td>752.228640</td>\n",
       "    </tr>\n",
       "    <tr>\n",
       "      <th>mp1-klieber2017s-0490-022-t12.cnf</th>\n",
       "      <td>0.000000</td>\n",
       "      <td>1.000000e+00</td>\n",
       "      <td>29873.000000</td>\n",
       "      <td>366.182205</td>\n",
       "      <td>209.06600</td>\n",
       "      <td>329.763626</td>\n",
       "    </tr>\n",
       "    <tr>\n",
       "      <th>aes_32_3_keyfind_1.cnf</th>\n",
       "      <td>0.000000</td>\n",
       "      <td>1.000000e+00</td>\n",
       "      <td>606.857143</td>\n",
       "      <td>6796.592819</td>\n",
       "      <td>2000.05000</td>\n",
       "      <td>11727.218960</td>\n",
       "    </tr>\n",
       "    <tr>\n",
       "      <th>aes_32_3_keyfind_2.cnf</th>\n",
       "      <td>0.000000</td>\n",
       "      <td>1.000000e+00</td>\n",
       "      <td>674.285714</td>\n",
       "      <td>12135.998429</td>\n",
       "      <td>2486.22000</td>\n",
       "      <td>19675.299486</td>\n",
       "    </tr>\n",
       "    <tr>\n",
       "      <th>gss-18-s100.cnf</th>\n",
       "      <td>0.000000</td>\n",
       "      <td>1.000000e+00</td>\n",
       "      <td>31364.000000</td>\n",
       "      <td>551.239451</td>\n",
       "      <td>532.62500</td>\n",
       "      <td>358.031024</td>\n",
       "    </tr>\n",
       "    <tr>\n",
       "      <th>gss-20-s100.cnf</th>\n",
       "      <td>0.000000</td>\n",
       "      <td>1.000000e+00</td>\n",
       "      <td>31503.000000</td>\n",
       "      <td>2922.011857</td>\n",
       "      <td>1380.24000</td>\n",
       "      <td>3268.099980</td>\n",
       "    </tr>\n",
       "    <tr>\n",
       "      <th>manthey_DimacsSorter_35_1.cnf</th>\n",
       "      <td>0.000144</td>\n",
       "      <td>2.000000e+00</td>\n",
       "      <td>6945.000000</td>\n",
       "      <td>1234.022667</td>\n",
       "      <td>897.23600</td>\n",
       "      <td>1077.329827</td>\n",
       "    </tr>\n",
       "    <tr>\n",
       "      <th>manthey_DimacsSorter_35_7.cnf</th>\n",
       "      <td>0.000146</td>\n",
       "      <td>2.000000e+00</td>\n",
       "      <td>6838.000000</td>\n",
       "      <td>616.533810</td>\n",
       "      <td>568.86200</td>\n",
       "      <td>408.143699</td>\n",
       "    </tr>\n",
       "    <tr>\n",
       "      <th>manthey_DimacsSorter_28_0.cnf</th>\n",
       "      <td>0.000251</td>\n",
       "      <td>2.000000e+00</td>\n",
       "      <td>3986.000000</td>\n",
       "      <td>19.261290</td>\n",
       "      <td>22.40060</td>\n",
       "      <td>12.314075</td>\n",
       "    </tr>\n",
       "    <tr>\n",
       "      <th>manthey_DimacsSorter_30_5.cnf</th>\n",
       "      <td>0.000260</td>\n",
       "      <td>2.000000e+00</td>\n",
       "      <td>3843.000000</td>\n",
       "      <td>106.104638</td>\n",
       "      <td>101.05400</td>\n",
       "      <td>42.057005</td>\n",
       "    </tr>\n",
       "    <tr>\n",
       "      <th>manthey_DimacsSorterHalf_30_3.cnf</th>\n",
       "      <td>0.000267</td>\n",
       "      <td>2.000000e+00</td>\n",
       "      <td>3740.000000</td>\n",
       "      <td>39.715976</td>\n",
       "      <td>39.36700</td>\n",
       "      <td>18.772585</td>\n",
       "    </tr>\n",
       "    <tr>\n",
       "      <th>manthey_DimacsSorter_30_4.cnf</th>\n",
       "      <td>0.000269</td>\n",
       "      <td>2.000000e+00</td>\n",
       "      <td>3723.000000</td>\n",
       "      <td>117.032590</td>\n",
       "      <td>94.92260</td>\n",
       "      <td>60.219912</td>\n",
       "    </tr>\n",
       "    <tr>\n",
       "      <th>manthey_DimacsSorterHalf_28_4.cnf</th>\n",
       "      <td>0.000273</td>\n",
       "      <td>2.000000e+00</td>\n",
       "      <td>3666.000000</td>\n",
       "      <td>217.127905</td>\n",
       "      <td>182.48200</td>\n",
       "      <td>119.074716</td>\n",
       "    </tr>\n",
       "    <tr>\n",
       "      <th>manthey_DimacsSorter_28_4.cnf</th>\n",
       "      <td>0.000273</td>\n",
       "      <td>2.000000e+00</td>\n",
       "      <td>3666.000000</td>\n",
       "      <td>223.463805</td>\n",
       "      <td>184.82100</td>\n",
       "      <td>134.822104</td>\n",
       "    </tr>\n",
       "    <tr>\n",
       "      <th>manthey_DimacsSorter_30_6.cnf</th>\n",
       "      <td>0.000275</td>\n",
       "      <td>2.000000e+00</td>\n",
       "      <td>3638.000000</td>\n",
       "      <td>130.574390</td>\n",
       "      <td>124.83200</td>\n",
       "      <td>70.913846</td>\n",
       "    </tr>\n",
       "    <tr>\n",
       "      <th>manthey_DimacsSorter_30_1.cnf</th>\n",
       "      <td>0.000277</td>\n",
       "      <td>2.000000e+00</td>\n",
       "      <td>3606.000000</td>\n",
       "      <td>69.146095</td>\n",
       "      <td>62.90640</td>\n",
       "      <td>33.844492</td>\n",
       "    </tr>\n",
       "    <tr>\n",
       "      <th>manthey_DimacsSorter_28_3.cnf</th>\n",
       "      <td>0.000281</td>\n",
       "      <td>2.000000e+00</td>\n",
       "      <td>3553.000000</td>\n",
       "      <td>71.939633</td>\n",
       "      <td>62.78050</td>\n",
       "      <td>47.002341</td>\n",
       "    </tr>\n",
       "    <tr>\n",
       "      <th>manthey_DimacsSorter_28_7.cnf</th>\n",
       "      <td>0.000285</td>\n",
       "      <td>2.000000e+00</td>\n",
       "      <td>3507.000000</td>\n",
       "      <td>58.994804</td>\n",
       "      <td>62.02560</td>\n",
       "      <td>29.932989</td>\n",
       "    </tr>\n",
       "    <tr>\n",
       "      <th>manthey_DimacsSorterHalf_30_0.cnf</th>\n",
       "      <td>0.012458</td>\n",
       "      <td>4.000000e+00</td>\n",
       "      <td>3612.000000</td>\n",
       "      <td>80.670757</td>\n",
       "      <td>65.41410</td>\n",
       "      <td>46.547480</td>\n",
       "    </tr>\n",
       "    <tr>\n",
       "      <th>mp1-9_1.cnf</th>\n",
       "      <td>0.041152</td>\n",
       "      <td>3.200000e+01</td>\n",
       "      <td>1458.000000</td>\n",
       "      <td>977.605167</td>\n",
       "      <td>914.97700</td>\n",
       "      <td>964.012687</td>\n",
       "    </tr>\n",
       "    <tr>\n",
       "      <th>mp1-9_3.cnf</th>\n",
       "      <td>0.054491</td>\n",
       "      <td>6.400000e+01</td>\n",
       "      <td>1458.000000</td>\n",
       "      <td>70.381848</td>\n",
       "      <td>37.50000</td>\n",
       "      <td>75.058644</td>\n",
       "    </tr>\n",
       "    <tr>\n",
       "      <th>46bits_14.dimacs.cnf</th>\n",
       "      <td>0.075362</td>\n",
       "      <td>2.000000e+00</td>\n",
       "      <td>690.000000</td>\n",
       "      <td>968.078210</td>\n",
       "      <td>578.59800</td>\n",
       "      <td>1340.694329</td>\n",
       "    </tr>\n",
       "    <tr>\n",
       "      <th>mp1-9_29.cnf</th>\n",
       "      <td>0.076744</td>\n",
       "      <td>6.613398e+02</td>\n",
       "      <td>1458.000000</td>\n",
       "      <td>1283.063881</td>\n",
       "      <td>1078.51000</td>\n",
       "      <td>1317.344042</td>\n",
       "    </tr>\n",
       "    <tr>\n",
       "      <th>vmpc_33.cnf</th>\n",
       "      <td>0.080108</td>\n",
       "      <td>3.000000e+00</td>\n",
       "      <td>1089.000000</td>\n",
       "      <td>2087.511471</td>\n",
       "      <td>966.15300</td>\n",
       "      <td>3734.012787</td>\n",
       "    </tr>\n",
       "    <tr>\n",
       "      <th>46bits_11.dimacs.cnf</th>\n",
       "      <td>0.085631</td>\n",
       "      <td>2.000000e+00</td>\n",
       "      <td>689.000000</td>\n",
       "      <td>1150.988014</td>\n",
       "      <td>662.08000</td>\n",
       "      <td>1349.481087</td>\n",
       "    </tr>\n",
       "    <tr>\n",
       "      <th>mp1-9_11.cnf</th>\n",
       "      <td>0.091209</td>\n",
       "      <td>9.472924e+02</td>\n",
       "      <td>1458.000000</td>\n",
       "      <td>79.122193</td>\n",
       "      <td>30.14440</td>\n",
       "      <td>105.190943</td>\n",
       "    </tr>\n",
       "    <tr>\n",
       "      <th>44bits_11.dimacs.cnf</th>\n",
       "      <td>0.101806</td>\n",
       "      <td>2.000000e+00</td>\n",
       "      <td>609.000000</td>\n",
       "      <td>502.761857</td>\n",
       "      <td>351.84300</td>\n",
       "      <td>461.549937</td>\n",
       "    </tr>\n",
       "    <tr>\n",
       "      <th>46bits_12.dimacs.cnf</th>\n",
       "      <td>0.103300</td>\n",
       "      <td>2.000000e+00</td>\n",
       "      <td>697.000000</td>\n",
       "      <td>510.060381</td>\n",
       "      <td>449.85300</td>\n",
       "      <td>240.267467</td>\n",
       "    </tr>\n",
       "    <tr>\n",
       "      <th>manthey_DimacsSorterHalf_30_7.cnf</th>\n",
       "      <td>0.105813</td>\n",
       "      <td>4.000000e+00</td>\n",
       "      <td>3922.000000</td>\n",
       "      <td>96.343595</td>\n",
       "      <td>83.02440</td>\n",
       "      <td>45.888079</td>\n",
       "    </tr>\n",
       "    <tr>\n",
       "      <th>38bits_10.dimacs.cnf</th>\n",
       "      <td>0.111607</td>\n",
       "      <td>2.000000e+00</td>\n",
       "      <td>448.000000</td>\n",
       "      <td>22.379767</td>\n",
       "      <td>21.06080</td>\n",
       "      <td>10.269913</td>\n",
       "    </tr>\n",
       "    <tr>\n",
       "      <th>mp1-9_27.cnf</th>\n",
       "      <td>0.111729</td>\n",
       "      <td>1.196662e+04</td>\n",
       "      <td>1458.000000</td>\n",
       "      <td>258.990043</td>\n",
       "      <td>191.18900</td>\n",
       "      <td>225.399778</td>\n",
       "    </tr>\n",
       "    <tr>\n",
       "      <th>mp1-9_38.cnf</th>\n",
       "      <td>0.115842</td>\n",
       "      <td>2.067048e+03</td>\n",
       "      <td>1458.000000</td>\n",
       "      <td>404.084100</td>\n",
       "      <td>99.71780</td>\n",
       "      <td>634.005856</td>\n",
       "    </tr>\n",
       "    <tr>\n",
       "      <th>40bits_10.dimacs.cnf</th>\n",
       "      <td>0.130045</td>\n",
       "      <td>2.000000e+00</td>\n",
       "      <td>446.000000</td>\n",
       "      <td>29.742177</td>\n",
       "      <td>28.22970</td>\n",
       "      <td>19.322874</td>\n",
       "    </tr>\n",
       "    <tr>\n",
       "      <th>48bits_14.dimacs.cnf</th>\n",
       "      <td>0.140988</td>\n",
       "      <td>2.000000e+00</td>\n",
       "      <td>688.000000</td>\n",
       "      <td>1698.666524</td>\n",
       "      <td>1452.00000</td>\n",
       "      <td>1662.488605</td>\n",
       "    </tr>\n",
       "    <tr>\n",
       "      <th>42bits_12.dimacs.cnf</th>\n",
       "      <td>0.144981</td>\n",
       "      <td>2.000000e+00</td>\n",
       "      <td>538.000000</td>\n",
       "      <td>132.457090</td>\n",
       "      <td>119.05900</td>\n",
       "      <td>69.026726</td>\n",
       "    </tr>\n",
       "    <tr>\n",
       "      <th>modgen-n200-m90860q08c40-15606.cnf</th>\n",
       "      <td>0.153700</td>\n",
       "      <td>5.128190e+73</td>\n",
       "      <td>2200.000000</td>\n",
       "      <td>59.514405</td>\n",
       "      <td>40.05290</td>\n",
       "      <td>49.777996</td>\n",
       "    </tr>\n",
       "    <tr>\n",
       "      <th>modgen-n200-m90860q08c40-25297.cnf</th>\n",
       "      <td>0.236555</td>\n",
       "      <td>2.358223e+62</td>\n",
       "      <td>2200.000000</td>\n",
       "      <td>48.600176</td>\n",
       "      <td>46.22900</td>\n",
       "      <td>24.118725</td>\n",
       "    </tr>\n",
       "    <tr>\n",
       "      <th>mrpp_8x8#22_11.cnf</th>\n",
       "      <td>0.284128</td>\n",
       "      <td>7.589270e+176</td>\n",
       "      <td>9854.000000</td>\n",
       "      <td>70.779290</td>\n",
       "      <td>49.88140</td>\n",
       "      <td>53.575175</td>\n",
       "    </tr>\n",
       "    <tr>\n",
       "      <th>manthey_DimacsSorterHalf_32_1.cnf</th>\n",
       "      <td>0.339730</td>\n",
       "      <td>8.000000e+00</td>\n",
       "      <td>4927.000000</td>\n",
       "      <td>1867.699852</td>\n",
       "      <td>276.40000</td>\n",
       "      <td>5056.073676</td>\n",
       "    </tr>\n",
       "    <tr>\n",
       "      <th>manthey_DimacsSorter_32_1.cnf</th>\n",
       "      <td>0.339730</td>\n",
       "      <td>8.000000e+00</td>\n",
       "      <td>4927.000000</td>\n",
       "      <td>1953.920205</td>\n",
       "      <td>257.00000</td>\n",
       "      <td>5181.228511</td>\n",
       "    </tr>\n",
       "    <tr>\n",
       "      <th>mp1-qpr-bmp280-driver-5.cnf</th>\n",
       "      <td>0.588079</td>\n",
       "      <td>7.636790e+72</td>\n",
       "      <td>24070.000000</td>\n",
       "      <td>40.941169</td>\n",
       "      <td>3.04754</td>\n",
       "      <td>105.728096</td>\n",
       "    </tr>\n",
       "    <tr>\n",
       "      <th>manthey_single-ordered-initialized-w48-b8.cnf</th>\n",
       "      <td>0.723197</td>\n",
       "      <td>3.600000e+01</td>\n",
       "      <td>11520.000000</td>\n",
       "      <td>86.027848</td>\n",
       "      <td>50.74730</td>\n",
       "      <td>84.616328</td>\n",
       "    </tr>\n",
       "    <tr>\n",
       "      <th>manthey_single-ordered-initialized-w54-b9.cnf</th>\n",
       "      <td>0.742229</td>\n",
       "      <td>8.263801e+01</td>\n",
       "      <td>16281.000000</td>\n",
       "      <td>150.109629</td>\n",
       "      <td>135.87900</td>\n",
       "      <td>116.542755</td>\n",
       "    </tr>\n",
       "  </tbody>\n",
       "</table>\n",
       "</div>"
      ],
      "text/plain": [
       "                                                entropy       num_sols  \\\n",
       "formula                                                                  \n",
       "mp1-klieber2017s-0500-024-t12.cnf              0.000000   1.000000e+00   \n",
       "mp1-klieber2017s-0500-023-t12.cnf              0.000000   1.000000e+00   \n",
       "mp1-klieber2017s-0500-022-t12.cnf              0.000000   1.000000e+00   \n",
       "mp1-klieber2017s-0490-024-t12.cnf              0.000000   1.000000e+00   \n",
       "mp1-klieber2017s-0490-023-t12.cnf              0.000000   1.000000e+00   \n",
       "vmpc_29.cnf                                    0.000000   1.000000e+00   \n",
       "mp1-klieber2017s-0490-022-t12.cnf              0.000000   1.000000e+00   \n",
       "aes_32_3_keyfind_1.cnf                         0.000000   1.000000e+00   \n",
       "aes_32_3_keyfind_2.cnf                         0.000000   1.000000e+00   \n",
       "gss-18-s100.cnf                                0.000000   1.000000e+00   \n",
       "gss-20-s100.cnf                                0.000000   1.000000e+00   \n",
       "manthey_DimacsSorter_35_1.cnf                  0.000144   2.000000e+00   \n",
       "manthey_DimacsSorter_35_7.cnf                  0.000146   2.000000e+00   \n",
       "manthey_DimacsSorter_28_0.cnf                  0.000251   2.000000e+00   \n",
       "manthey_DimacsSorter_30_5.cnf                  0.000260   2.000000e+00   \n",
       "manthey_DimacsSorterHalf_30_3.cnf              0.000267   2.000000e+00   \n",
       "manthey_DimacsSorter_30_4.cnf                  0.000269   2.000000e+00   \n",
       "manthey_DimacsSorterHalf_28_4.cnf              0.000273   2.000000e+00   \n",
       "manthey_DimacsSorter_28_4.cnf                  0.000273   2.000000e+00   \n",
       "manthey_DimacsSorter_30_6.cnf                  0.000275   2.000000e+00   \n",
       "manthey_DimacsSorter_30_1.cnf                  0.000277   2.000000e+00   \n",
       "manthey_DimacsSorter_28_3.cnf                  0.000281   2.000000e+00   \n",
       "manthey_DimacsSorter_28_7.cnf                  0.000285   2.000000e+00   \n",
       "manthey_DimacsSorterHalf_30_0.cnf              0.012458   4.000000e+00   \n",
       "mp1-9_1.cnf                                    0.041152   3.200000e+01   \n",
       "mp1-9_3.cnf                                    0.054491   6.400000e+01   \n",
       "46bits_14.dimacs.cnf                           0.075362   2.000000e+00   \n",
       "mp1-9_29.cnf                                   0.076744   6.613398e+02   \n",
       "vmpc_33.cnf                                    0.080108   3.000000e+00   \n",
       "46bits_11.dimacs.cnf                           0.085631   2.000000e+00   \n",
       "mp1-9_11.cnf                                   0.091209   9.472924e+02   \n",
       "44bits_11.dimacs.cnf                           0.101806   2.000000e+00   \n",
       "46bits_12.dimacs.cnf                           0.103300   2.000000e+00   \n",
       "manthey_DimacsSorterHalf_30_7.cnf              0.105813   4.000000e+00   \n",
       "38bits_10.dimacs.cnf                           0.111607   2.000000e+00   \n",
       "mp1-9_27.cnf                                   0.111729   1.196662e+04   \n",
       "mp1-9_38.cnf                                   0.115842   2.067048e+03   \n",
       "40bits_10.dimacs.cnf                           0.130045   2.000000e+00   \n",
       "48bits_14.dimacs.cnf                           0.140988   2.000000e+00   \n",
       "42bits_12.dimacs.cnf                           0.144981   2.000000e+00   \n",
       "modgen-n200-m90860q08c40-15606.cnf             0.153700   5.128190e+73   \n",
       "modgen-n200-m90860q08c40-25297.cnf             0.236555   2.358223e+62   \n",
       "mrpp_8x8#22_11.cnf                             0.284128  7.589270e+176   \n",
       "manthey_DimacsSorterHalf_32_1.cnf              0.339730   8.000000e+00   \n",
       "manthey_DimacsSorter_32_1.cnf                  0.339730   8.000000e+00   \n",
       "mp1-qpr-bmp280-driver-5.cnf                    0.588079   7.636790e+72   \n",
       "manthey_single-ordered-initialized-w48-b8.cnf  0.723197   3.600000e+01   \n",
       "manthey_single-ordered-initialized-w54-b9.cnf  0.742229   8.263801e+01   \n",
       "\n",
       "                                                  variables          mean  \\\n",
       "formula                                                                     \n",
       "mp1-klieber2017s-0500-024-t12.cnf              30935.000000   1264.177000   \n",
       "mp1-klieber2017s-0500-023-t12.cnf              30587.000000    616.614338   \n",
       "mp1-klieber2017s-0500-022-t12.cnf              30894.000000    276.408448   \n",
       "mp1-klieber2017s-0490-024-t12.cnf              30503.000000   1560.008748   \n",
       "mp1-klieber2017s-0490-023-t12.cnf              30833.000000    853.044886   \n",
       "vmpc_29.cnf                                      841.000000    558.079186   \n",
       "mp1-klieber2017s-0490-022-t12.cnf              29873.000000    366.182205   \n",
       "aes_32_3_keyfind_1.cnf                           606.857143   6796.592819   \n",
       "aes_32_3_keyfind_2.cnf                           674.285714  12135.998429   \n",
       "gss-18-s100.cnf                                31364.000000    551.239451   \n",
       "gss-20-s100.cnf                                31503.000000   2922.011857   \n",
       "manthey_DimacsSorter_35_1.cnf                   6945.000000   1234.022667   \n",
       "manthey_DimacsSorter_35_7.cnf                   6838.000000    616.533810   \n",
       "manthey_DimacsSorter_28_0.cnf                   3986.000000     19.261290   \n",
       "manthey_DimacsSorter_30_5.cnf                   3843.000000    106.104638   \n",
       "manthey_DimacsSorterHalf_30_3.cnf               3740.000000     39.715976   \n",
       "manthey_DimacsSorter_30_4.cnf                   3723.000000    117.032590   \n",
       "manthey_DimacsSorterHalf_28_4.cnf               3666.000000    217.127905   \n",
       "manthey_DimacsSorter_28_4.cnf                   3666.000000    223.463805   \n",
       "manthey_DimacsSorter_30_6.cnf                   3638.000000    130.574390   \n",
       "manthey_DimacsSorter_30_1.cnf                   3606.000000     69.146095   \n",
       "manthey_DimacsSorter_28_3.cnf                   3553.000000     71.939633   \n",
       "manthey_DimacsSorter_28_7.cnf                   3507.000000     58.994804   \n",
       "manthey_DimacsSorterHalf_30_0.cnf               3612.000000     80.670757   \n",
       "mp1-9_1.cnf                                     1458.000000    977.605167   \n",
       "mp1-9_3.cnf                                     1458.000000     70.381848   \n",
       "46bits_14.dimacs.cnf                             690.000000    968.078210   \n",
       "mp1-9_29.cnf                                    1458.000000   1283.063881   \n",
       "vmpc_33.cnf                                     1089.000000   2087.511471   \n",
       "46bits_11.dimacs.cnf                             689.000000   1150.988014   \n",
       "mp1-9_11.cnf                                    1458.000000     79.122193   \n",
       "44bits_11.dimacs.cnf                             609.000000    502.761857   \n",
       "46bits_12.dimacs.cnf                             697.000000    510.060381   \n",
       "manthey_DimacsSorterHalf_30_7.cnf               3922.000000     96.343595   \n",
       "38bits_10.dimacs.cnf                             448.000000     22.379767   \n",
       "mp1-9_27.cnf                                    1458.000000    258.990043   \n",
       "mp1-9_38.cnf                                    1458.000000    404.084100   \n",
       "40bits_10.dimacs.cnf                             446.000000     29.742177   \n",
       "48bits_14.dimacs.cnf                             688.000000   1698.666524   \n",
       "42bits_12.dimacs.cnf                             538.000000    132.457090   \n",
       "modgen-n200-m90860q08c40-15606.cnf              2200.000000     59.514405   \n",
       "modgen-n200-m90860q08c40-25297.cnf              2200.000000     48.600176   \n",
       "mrpp_8x8#22_11.cnf                              9854.000000     70.779290   \n",
       "manthey_DimacsSorterHalf_32_1.cnf               4927.000000   1867.699852   \n",
       "manthey_DimacsSorter_32_1.cnf                   4927.000000   1953.920205   \n",
       "mp1-qpr-bmp280-driver-5.cnf                    24070.000000     40.941169   \n",
       "manthey_single-ordered-initialized-w48-b8.cnf  11520.000000     86.027848   \n",
       "manthey_single-ordered-initialized-w54-b9.cnf  16281.000000    150.109629   \n",
       "\n",
       "                                                   median           std  \n",
       "formula                                                                  \n",
       "mp1-klieber2017s-0500-024-t12.cnf               784.20900   1222.552242  \n",
       "mp1-klieber2017s-0500-023-t12.cnf               455.52700    608.412865  \n",
       "mp1-klieber2017s-0500-022-t12.cnf               127.98000    337.854136  \n",
       "mp1-klieber2017s-0490-024-t12.cnf               745.25900   1516.748450  \n",
       "mp1-klieber2017s-0490-023-t12.cnf               557.79400    773.543876  \n",
       "vmpc_29.cnf                                     315.50200    752.228640  \n",
       "mp1-klieber2017s-0490-022-t12.cnf               209.06600    329.763626  \n",
       "aes_32_3_keyfind_1.cnf                         2000.05000  11727.218960  \n",
       "aes_32_3_keyfind_2.cnf                         2486.22000  19675.299486  \n",
       "gss-18-s100.cnf                                 532.62500    358.031024  \n",
       "gss-20-s100.cnf                                1380.24000   3268.099980  \n",
       "manthey_DimacsSorter_35_1.cnf                   897.23600   1077.329827  \n",
       "manthey_DimacsSorter_35_7.cnf                   568.86200    408.143699  \n",
       "manthey_DimacsSorter_28_0.cnf                    22.40060     12.314075  \n",
       "manthey_DimacsSorter_30_5.cnf                   101.05400     42.057005  \n",
       "manthey_DimacsSorterHalf_30_3.cnf                39.36700     18.772585  \n",
       "manthey_DimacsSorter_30_4.cnf                    94.92260     60.219912  \n",
       "manthey_DimacsSorterHalf_28_4.cnf               182.48200    119.074716  \n",
       "manthey_DimacsSorter_28_4.cnf                   184.82100    134.822104  \n",
       "manthey_DimacsSorter_30_6.cnf                   124.83200     70.913846  \n",
       "manthey_DimacsSorter_30_1.cnf                    62.90640     33.844492  \n",
       "manthey_DimacsSorter_28_3.cnf                    62.78050     47.002341  \n",
       "manthey_DimacsSorter_28_7.cnf                    62.02560     29.932989  \n",
       "manthey_DimacsSorterHalf_30_0.cnf                65.41410     46.547480  \n",
       "mp1-9_1.cnf                                     914.97700    964.012687  \n",
       "mp1-9_3.cnf                                      37.50000     75.058644  \n",
       "46bits_14.dimacs.cnf                            578.59800   1340.694329  \n",
       "mp1-9_29.cnf                                   1078.51000   1317.344042  \n",
       "vmpc_33.cnf                                     966.15300   3734.012787  \n",
       "46bits_11.dimacs.cnf                            662.08000   1349.481087  \n",
       "mp1-9_11.cnf                                     30.14440    105.190943  \n",
       "44bits_11.dimacs.cnf                            351.84300    461.549937  \n",
       "46bits_12.dimacs.cnf                            449.85300    240.267467  \n",
       "manthey_DimacsSorterHalf_30_7.cnf                83.02440     45.888079  \n",
       "38bits_10.dimacs.cnf                             21.06080     10.269913  \n",
       "mp1-9_27.cnf                                    191.18900    225.399778  \n",
       "mp1-9_38.cnf                                     99.71780    634.005856  \n",
       "40bits_10.dimacs.cnf                             28.22970     19.322874  \n",
       "48bits_14.dimacs.cnf                           1452.00000   1662.488605  \n",
       "42bits_12.dimacs.cnf                            119.05900     69.026726  \n",
       "modgen-n200-m90860q08c40-15606.cnf               40.05290     49.777996  \n",
       "modgen-n200-m90860q08c40-25297.cnf               46.22900     24.118725  \n",
       "mrpp_8x8#22_11.cnf                               49.88140     53.575175  \n",
       "manthey_DimacsSorterHalf_32_1.cnf               276.40000   5056.073676  \n",
       "manthey_DimacsSorter_32_1.cnf                   257.00000   5181.228511  \n",
       "mp1-qpr-bmp280-driver-5.cnf                       3.04754    105.728096  \n",
       "manthey_single-ordered-initialized-w48-b8.cnf    50.74730     84.616328  \n",
       "manthey_single-ordered-initialized-w54-b9.cnf   135.87900    116.542755  "
      ]
     },
     "execution_count": 106,
     "metadata": {},
     "output_type": "execute_result"
    }
   ],
   "source": [
    "variables = df.groupby('formula')['variables'].mean()\n",
    "entropy = df.groupby('formula')['entropy'].mean()\n",
    "num_sols = df.groupby('formula')['num_sols'].mean()\n",
    "means = df.groupby('formula')['runtime'].mean()\n",
    "medians = df.groupby('formula')['runtime'].median()\n",
    "stds = df.groupby('formula')['runtime'].std()\n",
    "series_list = [ entropy,num_sols, variables, means, medians, stds]\n",
    "statsdf = pd.concat(series_list, axis=1)\n",
    "statsdf.columns=['entropy', 'num_sols', 'variables','mean', 'median', 'std']\n",
    "statsdf.sort_values('entropy')"
   ]
  },
  {
   "cell_type": "markdown",
   "metadata": {},
   "source": [
    "# Formulas entropy histogram\n",
    "### (20 bins)"
   ]
  },
  {
   "cell_type": "code",
   "execution_count": null,
   "metadata": {
    "collapsed": true
   },
   "outputs": [],
   "source": [
    "statsdf['entropy'].hist(bins=20)\n",
    "print('Num formulas:%d' % statsdf.shape[0])"
   ]
  },
  {
   "cell_type": "code",
   "execution_count": null,
   "metadata": {
    "collapsed": true
   },
   "outputs": [],
   "source": []
  },
  {
   "cell_type": "markdown",
   "metadata": {},
   "source": [
    "### Remove formulas with runtime mean and std < 1 second (and terminated formulas too)"
   ]
  },
  {
   "cell_type": "code",
   "execution_count": 16,
   "metadata": {},
   "outputs": [
    {
     "name": "stdout",
     "output_type": "stream",
     "text": [
      "('formulas_to_remove', 14)\n",
      "('expected #rows', 294)\n",
      "294\n",
      "('before ', (1302, 15))\n",
      "('after ', (1008, 15))\n"
     ]
    }
   ],
   "source": [
    "formulas_to_remove = list(statsdf[(statsdf['mean'] < 15)].index)\n",
    "#formulas_to_remove += list(terminated_formulas)\n",
    "print('formulas_to_remove', len(formulas_to_remove))\n",
    "print('expected #rows', len(formulas_to_remove)*21)\n",
    "indices = list()\n",
    "for index, row in df.iterrows():\n",
    "    if row['formula'] in formulas_to_remove:\n",
    "        indices.append(index)\n",
    "print(len(indices))\n",
    "print('before ', df.shape)\n",
    "df.drop(indices, inplace=True)\n",
    "print('after ', df.shape)"
   ]
  },
  {
   "cell_type": "code",
   "execution_count": 20,
   "metadata": {},
   "outputs": [
    {
     "name": "stdout",
     "output_type": "stream",
     "text": [
      "(1008, 15)\n",
      "num formulas: 48\n",
      "parity: 0\n"
     ]
    }
   ],
   "source": [
    "sanity_check(df)"
   ]
  },
  {
   "cell_type": "markdown",
   "metadata": {},
   "source": [
    "## Add solution density"
   ]
  },
  {
   "cell_type": "code",
   "execution_count": 26,
   "metadata": {
    "collapsed": true
   },
   "outputs": [],
   "source": [
    "\n",
    "df['solution_density'] = df.apply(lambda x: (math.log(x['num_sols'], 2) / x['variables']) if x['variables'] > 0 else None , axis=1)"
   ]
  },
  {
   "cell_type": "markdown",
   "metadata": {},
   "source": [
    "## Number of unique formulas"
   ]
  },
  {
   "cell_type": "code",
   "execution_count": 33,
   "metadata": {},
   "outputs": [
    {
     "name": "stdout",
     "output_type": "stream",
     "text": [
      "48\n"
     ]
    }
   ],
   "source": [
    "formulas_set = set()\n",
    "for index, row in df.iterrows():\n",
    "    formulas_set.add(row['formula'])\n",
    "\n",
    "print(len(formulas_set))"
   ]
  },
  {
   "cell_type": "markdown",
   "metadata": {},
   "source": [
    "# Helpers for experiments"
   ]
  },
  {
   "cell_type": "code",
   "execution_count": 27,
   "metadata": {
    "collapsed": true
   },
   "outputs": [],
   "source": [
    "def create_secondary_dataframe(df, exp, formulas_set, a_val, b_val):\n",
    "    \"\"\"\n",
    "        Creates a secondary data frame for checking runtime diffs\n",
    "        columns = ['formula', 'entropy', 'solution_density', 'backbone', 'diff', \n",
    "                    'diff_perecent', 'runtime_a', 'runtime_b']\n",
    "        a_val and b_val are the actual solvers\n",
    "        diff is a_runtime - b_runtime\n",
    "    \"\"\"\n",
    "    # get experiment\n",
    "    exp_df = df[df['experiment'] == exp]\n",
    "    # create df\n",
    "    columns = ['formula', 'entropy', 'solution_density', 'backbone', \n",
    "               'diff', 'diff_perecent', 'runtime_a', 'runtime_b']\n",
    "    out_df = pd.DataFrame(columns=columns)\n",
    "\n",
    "    for index, f in enumerate(formulas_set):\n",
    "        # get formula,solver row\n",
    "        df_a = exp_df[(df['formula'] == f) & (df['solver'] == a_val)]\n",
    "        df_b = exp_df[(df['formula'] == f) & (df['solver'] == b_val)]\n",
    "        # should have 1 rows after manipulation\n",
    "        assert(df_a.shape[0] == 1)\n",
    "        assert(df_b.shape[0] == 1)\n",
    "        runtime_a, runtime_b = df_a.iloc[0]['runtime'], df_b.iloc[0]['runtime']\n",
    "        diff = df_a.iloc[0]['runtime'] - df_b.iloc[0]['runtime']\n",
    "        \n",
    "        #diff_perecent = runtime_b / runtime_a\n",
    "        \n",
    "        if runtime_b < runtime_a:\n",
    "            diff_perecent = runtime_a / runtime_b\n",
    "        elif runtime_a < runtime_b:\n",
    "            diff_perecent = -runtime_b / runtime_a\n",
    "        else:\n",
    "            diff_perecent = 0\n",
    "        \n",
    "        out_df.loc[index] = [f, \n",
    "                              df_a.iloc[0]['entropy'], \n",
    "                              df_a.iloc[0]['solution_density'],\n",
    "                              df_a.iloc[0]['backbone'],\n",
    "                              diff,\n",
    "                              diff_perecent,\n",
    "                              runtime_a, # runtime a\n",
    "                              runtime_b # runtime b\n",
    "                             ]\n",
    "    return out_df"
   ]
  },
  {
   "cell_type": "code",
   "execution_count": 28,
   "metadata": {
    "collapsed": true
   },
   "outputs": [],
   "source": [
    "def plotter(df, exp, formulas_set, a_val, b_val, x_property, x_lim=None, y_lim=None, opts='regression'):\n",
    "    \"\"\"\n",
    "        Plot diff (a_val - b_val) with x as x_property (could be entropy, num_sols, backbone)\n",
    "    \"\"\"\n",
    "    exp_df = create_secondary_dataframe(df, exp, formulas_set, a_val, b_val)\n",
    "    x = exp_df[x_property]\n",
    "    y = exp_df['diff']\n",
    "    # scatter\n",
    "    plt.plot(x , y, 'ro')\n",
    "    # regression line\n",
    "    if opts == 'regression':\n",
    "        m, b = np.polyfit(x, y, 1)\n",
    "        plt.plot(x, m*x + b, '-')\n",
    "    # add lines: distance for x=0\n",
    "    elif opts == 'lines':\n",
    "        for index, values in y:\n",
    "            pass # TODO\n",
    "    if x_lim:\n",
    "        plt.xlim(x_lim)\n",
    "    if y_lim:\n",
    "        plt.ylim(y_lim)\n",
    "    plt.xlabel(str(x_property))\n",
    "    plt.ylabel('Runtime (seconds)')\n",
    "    title = 'Delta runtime: ' + str(a_val) + '-' + str(b_val)\n",
    "    plt.title(title)\n",
    "    plt.show()"
   ]
  },
  {
   "cell_type": "code",
   "execution_count": null,
   "metadata": {
    "collapsed": true
   },
   "outputs": [],
   "source": []
  },
  {
   "cell_type": "code",
   "execution_count": 98,
   "metadata": {
    "collapsed": true
   },
   "outputs": [],
   "source": [
    "def plotter_both_runtimes(df, exp, formulas_set, a_val, b_val, x_property='entropy', x_lim=None, y_lim=None):\n",
    "    \"\"\"\n",
    "        Plot both a_val, b_val with x as x_property \n",
    "        (could be entropy, num_sols, backbone)\n",
    "    \"\"\"\n",
    "    exp_df = create_secondary_dataframe(df, exp, formulas_set, a_val, b_val)\n",
    "    x = exp_df[x_property]\n",
    "    y_a = exp_df['runtime_a']\n",
    "    y_b = exp_df['runtime_b']\n",
    "    # scatter\n",
    "    plt.plot(x , y_a, 'ro')\n",
    "    m, b = np.polyfit(x, y_a, 1)\n",
    "    plt.plot(x, m*x + b, '-', c='r')\n",
    "    plt.plot(x, y_b, 'bx')\n",
    "    m, b = np.polyfit(x, y_b, 1)\n",
    "    plt.plot(x, m*x + b, '-', c='b')\n",
    "    plt.xlim((-0.1, 0.8))\n",
    "    plt.ylim((-1000, max(y_a.max(), y_b.max())+1000))\n",
    "    plt.xlabel(str(x_property))\n",
    "    plt.ylabel('Runtime (seconds)')\n",
    "    title = 'Runtime: ' + str(a_val) + '-' + str(b_val)\n",
    "    plt.title(title)\n",
    "    plt.show()"
   ]
  },
  {
   "cell_type": "code",
   "execution_count": 76,
   "metadata": {
    "collapsed": true
   },
   "outputs": [],
   "source": [
    "def plotter_entropy_sols_sharingy(df, exp, formulas_set, a_val, b_val, pred='perecent'):\n",
    "    \"\"\"\n",
    "        Two subplots sharing Y\n",
    "    \"\"\"\n",
    "    exp_df = create_secondary_dataframe(df, exp, formulas_set, a_val, b_val)\n",
    "    if pred == 'perecent':\n",
    "        y = exp_df['diff_perecent']\n",
    "    elif pred == 'diff':\n",
    "        y = exp_df['diff']\n",
    "    \n",
    "    # config 2 plots\n",
    "    f, (ax1, ax2) = plt.subplots(1, 2, sharey=True)\n",
    "    \n",
    "    # first plot (entropy)\n",
    "    x = exp_df['entropy']\n",
    "    ax1.scatter(x, y)\n",
    "    # add regression line\n",
    "    m, b = np.polyfit(x, y, 1)\n",
    "    ax1.plot(x, m*x + b, '-')\n",
    "    # settings\n",
    "    ax1.set_xlabel('entropy')\n",
    "    ax1.set_ylabel('Runtime (seconds)')\n",
    "    title1 = 'Delta runtime: ' + str(a_val) + '-' + str(b_val)\n",
    "    ax1.set_title(title1)\n",
    "    ax1.autoscale_view()\n",
    "    \n",
    "    # second plot (density)\n",
    "    x = exp_df['solution_density']\n",
    "    ax2.scatter(x, y)\n",
    "    # add regression line\n",
    "    m, b = np.polyfit(x, y, 1)\n",
    "    ax2.plot(x, m*x + b, '-')\n",
    "    # settings\n",
    "    ax2.set_xlabel('solution_density')\n",
    "    ax2.set_ylabel('Runtime (seconds)')\n",
    "    title2 = 'Delta runtime: ' + str(a_val) + '-' + str(b_val)\n",
    "    ax2.set_title(title1)\n",
    "    ax2.autoscale_view()\n",
    "    \n",
    "    plt.show()"
   ]
  },
  {
   "cell_type": "code",
   "execution_count": 30,
   "metadata": {
    "collapsed": true
   },
   "outputs": [],
   "source": [
    "def entropy_sols_plotter(df, exp, formulas_set, a_val, b_val):\n",
    "    plotter(df, exp, formulas_set, a_val, b_val, 'entropy', x_lim=(0,df['entropy'].max()))\n",
    "    plotter(df, exp, formulas_set, a_val, b_val, 'solution_density', x_lim=(0,df['solution_density'].max()))"
   ]
  },
  {
   "cell_type": "code",
   "execution_count": 69,
   "metadata": {
    "collapsed": true
   },
   "outputs": [],
   "source": [
    "def plotter_3d(df, exp, formulas_set, a_val, b_val):\n",
    "    create_secondary_dataframe(df, exp, formulas_set, a_val, b_val)\n",
    "    fig = plt.figure()\n",
    "    ax = fig.add_subplot(121, projection='3d')\n",
    "    axb = fig.add_subplot(122, projection='3d')\n",
    "    ax.scatter(exp1_df['runtime_a'], exp1_df['entropy'], exp1_df['runtime_b'],)\n",
    "    ax.set_xlabel('CPU(Sec): %s' % a_val)\n",
    "    ax.set_zlabel('CPU(Sec): %s' % b_val)\n",
    "    ax.set_ylabel('Entropy')\n",
    "    axb.scatter(exp1_df['runtime_a'], exp1_df['solution_density'], exp1_df['runtime_b'])\n",
    "    axb.set_xlabel('CPU(Sec): %s' % a_val)\n",
    "    axb.set_zlabel('CPU(Sec): %s' % b_val)\n",
    "    axb.set_ylabel('Solution density')\n",
    "    axb.autoscale_view()\n",
    "    plt.show()"
   ]
  },
  {
   "cell_type": "markdown",
   "metadata": {},
   "source": [
    "# Exp1 - Database reduction: (With - Without)"
   ]
  },
  {
   "cell_type": "markdown",
   "metadata": {},
   "source": [
    "## Plots"
   ]
  },
  {
   "cell_type": "code",
   "execution_count": 99,
   "metadata": {},
   "outputs": [
    {
     "name": "stderr",
     "output_type": "stream",
     "text": [
      "/home/deebee/anaconda2/lib/python2.7/site-packages/ipykernel/__main__.py:18: UserWarning: Boolean Series key will be reindexed to match DataFrame index.\n",
      "/home/deebee/anaconda2/lib/python2.7/site-packages/ipykernel/__main__.py:19: UserWarning: Boolean Series key will be reindexed to match DataFrame index.\n"
     ]
    },
    {
     "data": {
      "image/png": "[encoded data removed]",
      "text/plain": [
       "<matplotlib.figure.Figure at 0x7fc955421f90>"
      ]
     },
     "metadata": {},
     "output_type": "display_data"
    }
   ],
   "source": [
    "plotter_both_runtimes(df, 'exp1', formulas_set, 'glucose-NR', 'glucose')"
   ]
  },
  {
   "cell_type": "markdown",
   "metadata": {},
   "source": [
    "There's high variation with low entropy (and low density), and it stabilizes as entropy increases."
   ]
  },
  {
   "cell_type": "markdown",
   "metadata": {},
   "source": [
    "# Exp2: Controlling lbd-cut (LBD1 - LBD5)"
   ]
  },
  {
   "cell_type": "code",
   "execution_count": 100,
   "metadata": {},
   "outputs": [
    {
     "name": "stderr",
     "output_type": "stream",
     "text": [
      "/home/deebee/anaconda2/lib/python2.7/site-packages/ipykernel/__main__.py:18: UserWarning: Boolean Series key will be reindexed to match DataFrame index.\n",
      "/home/deebee/anaconda2/lib/python2.7/site-packages/ipykernel/__main__.py:19: UserWarning: Boolean Series key will be reindexed to match DataFrame index.\n",
      "/home/deebee/anaconda2/lib/python2.7/site-packages/ipykernel/__main__.py:29: RuntimeWarning: divide by zero encountered in double_scalars\n"
     ]
    },
    {
     "data": {
      "image/png": "[encoded data removed]",
      "text/plain": [
       "<matplotlib.figure.Figure at 0x7fc956e2ef90>"
      ]
     },
     "metadata": {},
     "output_type": "display_data"
    }
   ],
   "source": [
    "plotter_both_runtimes(df, 'exp2', formulas_set, 'COMiniSatPS-1', 'COMiniSatPS-5')"
   ]
  },
  {
   "cell_type": "markdown",
   "metadata": {},
   "source": [
    "Entropy trend same as our paper, about solution density we can tell there's high variation in low density formulas."
   ]
  },
  {
   "cell_type": "markdown",
   "metadata": {},
   "source": [
    "## LBD0 - LBD5"
   ]
  },
  {
   "cell_type": "code",
   "execution_count": 101,
   "metadata": {},
   "outputs": [
    {
     "name": "stderr",
     "output_type": "stream",
     "text": [
      "/home/deebee/anaconda2/lib/python2.7/site-packages/ipykernel/__main__.py:18: UserWarning: Boolean Series key will be reindexed to match DataFrame index.\n",
      "/home/deebee/anaconda2/lib/python2.7/site-packages/ipykernel/__main__.py:19: UserWarning: Boolean Series key will be reindexed to match DataFrame index.\n",
      "/home/deebee/anaconda2/lib/python2.7/site-packages/ipykernel/__main__.py:29: RuntimeWarning: divide by zero encountered in double_scalars\n"
     ]
    },
    {
     "data": {
      "image/png": "[encoded data removed]",
      "text/plain": [
       "<matplotlib.figure.Figure at 0x7fc95538a0d0>"
      ]
     },
     "metadata": {},
     "output_type": "display_data"
    }
   ],
   "source": [
    "plotter_both_runtimes(df, 'exp2', formulas_set, 'COMiniSatPS-0', 'COMiniSatPS-5')"
   ]
  },
  {
   "cell_type": "markdown",
   "metadata": {},
   "source": [
    "Same as before (but density trend is different)"
   ]
  },
  {
   "cell_type": "markdown",
   "metadata": {},
   "source": [
    "# Exp3 - Saving criterion - Clause-size - Lbd"
   ]
  },
  {
   "cell_type": "code",
   "execution_count": 102,
   "metadata": {},
   "outputs": [
    {
     "name": "stderr",
     "output_type": "stream",
     "text": [
      "/home/deebee/anaconda2/lib/python2.7/site-packages/ipykernel/__main__.py:18: UserWarning: Boolean Series key will be reindexed to match DataFrame index.\n",
      "/home/deebee/anaconda2/lib/python2.7/site-packages/ipykernel/__main__.py:19: UserWarning: Boolean Series key will be reindexed to match DataFrame index.\n"
     ]
    },
    {
     "data": {
      "image/png": "[encoded data removed]",
      "text/plain": [
       "<matplotlib.figure.Figure at 0x7fc954b6f650>"
      ]
     },
     "metadata": {},
     "output_type": "display_data"
    }
   ],
   "source": [
    "plotter_both_runtimes(df, 'exp3', formulas_set, 'wrapperClause', 'wrapperLBD')"
   ]
  },
  {
   "cell_type": "markdown",
   "metadata": {},
   "source": [
    "The variation is more significant with low entropy and low density. Trends aren't like our paper (but maybe it's early to decide)"
   ]
  },
  {
   "cell_type": "markdown",
   "metadata": {},
   "source": [
    "# Exp4 - Restarts type (Luby - Glucose)"
   ]
  },
  {
   "cell_type": "code",
   "execution_count": 103,
   "metadata": {},
   "outputs": [
    {
     "name": "stderr",
     "output_type": "stream",
     "text": [
      "/home/deebee/anaconda2/lib/python2.7/site-packages/ipykernel/__main__.py:18: UserWarning: Boolean Series key will be reindexed to match DataFrame index.\n",
      "/home/deebee/anaconda2/lib/python2.7/site-packages/ipykernel/__main__.py:19: UserWarning: Boolean Series key will be reindexed to match DataFrame index.\n"
     ]
    },
    {
     "data": {
      "image/png": "[encoded data removed]",
      "text/plain": [
       "<matplotlib.figure.Figure at 0x7fc955550190>"
      ]
     },
     "metadata": {},
     "output_type": "display_data"
    }
   ],
   "source": [
    "plotter_both_runtimes(df, 'exp4', formulas_set, 'wrapper-luby', 'wrapper-glucose')"
   ]
  },
  {
   "cell_type": "markdown",
   "metadata": {},
   "source": [
    "Same trend as our paper"
   ]
  },
  {
   "cell_type": "markdown",
   "metadata": {},
   "source": [
    "# Exp5 - Variable decay factor (G0.6 - G0.95)"
   ]
  },
  {
   "cell_type": "code",
   "execution_count": 104,
   "metadata": {},
   "outputs": [
    {
     "name": "stderr",
     "output_type": "stream",
     "text": [
      "/home/deebee/anaconda2/lib/python2.7/site-packages/ipykernel/__main__.py:18: UserWarning: Boolean Series key will be reindexed to match DataFrame index.\n",
      "/home/deebee/anaconda2/lib/python2.7/site-packages/ipykernel/__main__.py:19: UserWarning: Boolean Series key will be reindexed to match DataFrame index.\n"
     ]
    },
    {
     "data": {
      "image/png": "[encoded data removed]",
      "text/plain": [
       "<matplotlib.figure.Figure at 0x7fc9552087d0>"
      ]
     },
     "metadata": {},
     "output_type": "display_data"
    }
   ],
   "source": [
    "plotter_both_runtimes(df, 'exp5', formulas_set, 'wrapper-60', 'wrapper-95')"
   ]
  },
  {
   "cell_type": "markdown",
   "metadata": {},
   "source": [
    "For low entropy there's high variation, for high entropy the diff is low.\n",
    "\n",
    "About density - same as our paper"
   ]
  },
  {
   "cell_type": "markdown",
   "metadata": {},
   "source": [
    "# Summary"
   ]
  },
  {
   "cell_type": "markdown",
   "metadata": {},
   "source": [
    "The trends aren't 100% same as our paper (but not that different), although we have more formulas to add (2016-2017) to our dataset\n",
    "\n",
    "I think we should emphasize the large variation between the engines for low entropy, and small variation for high entropy. \n",
    "\n",
    "Why should we care about it? The entropy/solution density could be a new measure for the hardness of SATISFIABLE formulas. If for example we work in the industry on some kind of formula, we could run the entropy (solution density) approximator once to tell us if the formula has high or low entropy (solution density). Another scenario: tell something about the competitions formulas (do they have small entropy on average?).\n",
    "\n",
    "TODO:\n",
    "* We should filter formulas with runtime < 15 seconds (?)\n",
    "\n"
   ]
  },
  {
   "cell_type": "markdown",
   "metadata": {},
   "source": [
    "## How large is the variation between all engines (for entropy/density < threshold)?"
   ]
  },
  {
   "cell_type": "markdown",
   "metadata": {},
   "source": [
    "Global variation (all entropies)"
   ]
  },
  {
   "cell_type": "code",
   "execution_count": null,
   "metadata": {
    "collapsed": true
   },
   "outputs": [],
   "source": [
    "print(df['entropy'].mean(), df['entropy'].std())"
   ]
  },
  {
   "cell_type": "markdown",
   "metadata": {},
   "source": [
    "Low entropy"
   ]
  },
  {
   "cell_type": "code",
   "execution_count": null,
   "metadata": {
    "collapsed": true
   },
   "outputs": [],
   "source": [
    "def threshold_mean_std(df, threshold, prop):\n",
    "    print 'low %s' % prop\n",
    "    print 'mean %lf, std %lf' % (df[df[prop] < threshold][prop].mean(),\n",
    "                                 df[df[prop] < threshold][prop].std())\n",
    "    print 'high %s' % prop\n",
    "    print 'mean %lf, std %lf' % (df[df[prop] >= threshold][prop].mean(),\n",
    "                                 df[df[prop] >= threshold][prop].std())"
   ]
  },
  {
   "cell_type": "code",
   "execution_count": null,
   "metadata": {
    "collapsed": true
   },
   "outputs": [],
   "source": [
    "for thres in [0.1, 0.2, 0.3, 0.4, 0.5, 0.6, 0.7, 0.8]:\n",
    "    print 'threshold: %lf' % thres\n",
    "    threshold_mean_std(df, thres, 'entropy')\n",
    "    print"
   ]
  },
  {
   "cell_type": "markdown",
   "metadata": {},
   "source": [
    "Notice how the standard deviation is increasing for low entropy and decreasing for high entropy, as we increase the threshold."
   ]
  },
  {
   "cell_type": "code",
   "execution_count": null,
   "metadata": {
    "collapsed": true
   },
   "outputs": [],
   "source": [
    "for thres in [0.01, 0.05, 0.1, 0.15, 0.2]:\n",
    "    print 'threshold: %lf' % thres\n",
    "    threshold_mean_std(df, thres, 'solution_density')\n",
    "    print"
   ]
  },
  {
   "cell_type": "markdown",
   "metadata": {},
   "source": [
    "Same goes for solution density, although we don't have much diversity in its values."
   ]
  }
 ],
 "metadata": {
  "kernelspec": {
   "display_name": "Python 2",
   "language": "python",
   "name": "python2"
  },
  "language_info": {
   "codemirror_mode": {
    "name": "ipython",
    "version": 2
   },
   "file_extension": ".py",
   "mimetype": "text/x-python",
   "name": "python",
   "nbconvert_exporter": "python",
   "pygments_lexer": "ipython2",
   "version": "2.7.12"
  }
 },
 "nbformat": 4,
 "nbformat_minor": 1
}
