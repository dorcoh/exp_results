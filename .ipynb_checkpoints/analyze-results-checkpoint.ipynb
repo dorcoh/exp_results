{
 "cells": [
  {
   "cell_type": "code",
   "execution_count": 81,
   "metadata": {
    "collapsed": true
   },
   "outputs": [],
   "source": [
    "import pandas as pd\n",
    "import matplotlib.pyplot as plt\n",
    "import math\n",
    "import numpy as np\n",
    "%matplotlib inline\n",
    "plt.rcParams['figure.figsize'] = (10.0, 8.0) # set default size of plots\n",
    "plt.rcParams['image.interpolation'] = 'nearest'\n",
    "plt.rcParams['image.cmap'] = 'gray'"
   ]
  },
  {
   "cell_type": "markdown",
   "metadata": {},
   "source": [
    "## Load data frame"
   ]
  },
  {
   "cell_type": "code",
   "execution_count": 141,
   "metadata": {},
   "outputs": [
    {
     "data": {
      "text/html": [
       "<div>\n",
       "<style>\n",
       "    .dataframe thead tr:only-child th {\n",
       "        text-align: right;\n",
       "    }\n",
       "\n",
       "    .dataframe thead th {\n",
       "        text-align: left;\n",
       "    }\n",
       "\n",
       "    .dataframe tbody tr th {\n",
       "        vertical-align: top;\n",
       "    }\n",
       "</style>\n",
       "<table border=\"1\" class=\"dataframe\">\n",
       "  <thead>\n",
       "    <tr style=\"text-align: right;\">\n",
       "      <th></th>\n",
       "      <th>experiment</th>\n",
       "      <th>solver</th>\n",
       "      <th>formula</th>\n",
       "      <th>variables</th>\n",
       "      <th>clauses</th>\n",
       "      <th>runtime</th>\n",
       "      <th>conflicts</th>\n",
       "      <th>decisions</th>\n",
       "      <th>restarts</th>\n",
       "      <th>propagations</th>\n",
       "      <th>entropy</th>\n",
       "      <th>backbone</th>\n",
       "      <th>num_sols</th>\n",
       "      <th>chi_square</th>\n",
       "      <th>cpu_time</th>\n",
       "    </tr>\n",
       "  </thead>\n",
       "  <tbody>\n",
       "    <tr>\n",
       "      <th>0</th>\n",
       "      <td>exp2</td>\n",
       "      <td>COMiniSatPS-6</td>\n",
       "      <td>40bits_10.dimacs.cnf</td>\n",
       "      <td>446</td>\n",
       "      <td>12980</td>\n",
       "      <td>61.07870</td>\n",
       "      <td>224458</td>\n",
       "      <td>255797</td>\n",
       "      <td>475.0</td>\n",
       "      <td>16165613</td>\n",
       "      <td>0.130045</td>\n",
       "      <td>0.869955</td>\n",
       "      <td>2.0</td>\n",
       "      <td>0.0</td>\n",
       "      <td>4.79127</td>\n",
       "    </tr>\n",
       "    <tr>\n",
       "      <th>1</th>\n",
       "      <td>exp2</td>\n",
       "      <td>COMiniSatPS-5</td>\n",
       "      <td>40bits_10.dimacs.cnf</td>\n",
       "      <td>446</td>\n",
       "      <td>12980</td>\n",
       "      <td>36.70640</td>\n",
       "      <td>234944</td>\n",
       "      <td>274595</td>\n",
       "      <td>367.0</td>\n",
       "      <td>14949163</td>\n",
       "      <td>0.130045</td>\n",
       "      <td>0.869955</td>\n",
       "      <td>2.0</td>\n",
       "      <td>0.0</td>\n",
       "      <td>4.79127</td>\n",
       "    </tr>\n",
       "    <tr>\n",
       "      <th>2</th>\n",
       "      <td>exp5</td>\n",
       "      <td>wrapper-60</td>\n",
       "      <td>40bits_10.dimacs.cnf</td>\n",
       "      <td>446</td>\n",
       "      <td>12980</td>\n",
       "      <td>15.73160</td>\n",
       "      <td>117363</td>\n",
       "      <td>154663</td>\n",
       "      <td>356.0</td>\n",
       "      <td>4992154</td>\n",
       "      <td>0.130045</td>\n",
       "      <td>0.869955</td>\n",
       "      <td>2.0</td>\n",
       "      <td>0.0</td>\n",
       "      <td>4.79127</td>\n",
       "    </tr>\n",
       "    <tr>\n",
       "      <th>3</th>\n",
       "      <td>exp4</td>\n",
       "      <td>wrapper-glucose</td>\n",
       "      <td>40bits_10.dimacs.cnf</td>\n",
       "      <td>446</td>\n",
       "      <td>12980</td>\n",
       "      <td>2.13967</td>\n",
       "      <td>26069</td>\n",
       "      <td>32948</td>\n",
       "      <td>64.0</td>\n",
       "      <td>979665</td>\n",
       "      <td>0.130045</td>\n",
       "      <td>0.869955</td>\n",
       "      <td>2.0</td>\n",
       "      <td>0.0</td>\n",
       "      <td>4.79127</td>\n",
       "    </tr>\n",
       "    <tr>\n",
       "      <th>4</th>\n",
       "      <td>exp2</td>\n",
       "      <td>COMiniSatPS-4</td>\n",
       "      <td>40bits_10.dimacs.cnf</td>\n",
       "      <td>446</td>\n",
       "      <td>12980</td>\n",
       "      <td>48.07070</td>\n",
       "      <td>222780</td>\n",
       "      <td>258214</td>\n",
       "      <td>319.0</td>\n",
       "      <td>15949794</td>\n",
       "      <td>0.130045</td>\n",
       "      <td>0.869955</td>\n",
       "      <td>2.0</td>\n",
       "      <td>0.0</td>\n",
       "      <td>4.79127</td>\n",
       "    </tr>\n",
       "  </tbody>\n",
       "</table>\n",
       "</div>"
      ],
      "text/plain": [
       "  experiment           solver               formula  variables  clauses  \\\n",
       "0       exp2    COMiniSatPS-6  40bits_10.dimacs.cnf        446    12980   \n",
       "1       exp2    COMiniSatPS-5  40bits_10.dimacs.cnf        446    12980   \n",
       "2       exp5       wrapper-60  40bits_10.dimacs.cnf        446    12980   \n",
       "3       exp4  wrapper-glucose  40bits_10.dimacs.cnf        446    12980   \n",
       "4       exp2    COMiniSatPS-4  40bits_10.dimacs.cnf        446    12980   \n",
       "\n",
       "    runtime  conflicts  decisions  restarts  propagations   entropy  backbone  \\\n",
       "0  61.07870     224458     255797     475.0      16165613  0.130045  0.869955   \n",
       "1  36.70640     234944     274595     367.0      14949163  0.130045  0.869955   \n",
       "2  15.73160     117363     154663     356.0       4992154  0.130045  0.869955   \n",
       "3   2.13967      26069      32948      64.0        979665  0.130045  0.869955   \n",
       "4  48.07070     222780     258214     319.0      15949794  0.130045  0.869955   \n",
       "\n",
       "   num_sols  chi_square  cpu_time  \n",
       "0       2.0         0.0   4.79127  \n",
       "1       2.0         0.0   4.79127  \n",
       "2       2.0         0.0   4.79127  \n",
       "3       2.0         0.0   4.79127  \n",
       "4       2.0         0.0   4.79127  "
      ]
     },
     "execution_count": 141,
     "metadata": {},
     "output_type": "execute_result"
    }
   ],
   "source": [
    "df = pd.read_csv('joined.csv')\n",
    "df.head()"
   ]
  },
  {
   "cell_type": "code",
   "execution_count": 142,
   "metadata": {},
   "outputs": [
    {
     "data": {
      "text/plain": [
       "{'aes_32_3_keyfind_1.cnf'}"
      ]
     },
     "execution_count": 142,
     "metadata": {},
     "output_type": "execute_result"
    }
   ],
   "source": [
    "# find timeout/unsat formulas\n",
    "terminated_formulas = set()\n",
    "for index, row in df[df['variables'] == 0].iterrows():\n",
    "    terminated_formulas.add(row['formula'])\n",
    "\n",
    "terminated_formulas"
   ]
  },
  {
   "cell_type": "code",
   "execution_count": 143,
   "metadata": {},
   "outputs": [
    {
     "data": {
      "text/html": [
       "<div>\n",
       "<style>\n",
       "    .dataframe thead tr:only-child th {\n",
       "        text-align: right;\n",
       "    }\n",
       "\n",
       "    .dataframe thead th {\n",
       "        text-align: left;\n",
       "    }\n",
       "\n",
       "    .dataframe tbody tr th {\n",
       "        vertical-align: top;\n",
       "    }\n",
       "</style>\n",
       "<table border=\"1\" class=\"dataframe\">\n",
       "  <thead>\n",
       "    <tr style=\"text-align: right;\">\n",
       "      <th></th>\n",
       "      <th>experiment</th>\n",
       "      <th>solver</th>\n",
       "      <th>formula</th>\n",
       "      <th>variables</th>\n",
       "      <th>clauses</th>\n",
       "      <th>runtime</th>\n",
       "      <th>conflicts</th>\n",
       "      <th>decisions</th>\n",
       "      <th>restarts</th>\n",
       "      <th>propagations</th>\n",
       "      <th>entropy</th>\n",
       "      <th>backbone</th>\n",
       "      <th>num_sols</th>\n",
       "      <th>chi_square</th>\n",
       "      <th>cpu_time</th>\n",
       "    </tr>\n",
       "  </thead>\n",
       "  <tbody>\n",
       "    <tr>\n",
       "      <th>630</th>\n",
       "      <td>exp2</td>\n",
       "      <td>COMiniSatPS-0</td>\n",
       "      <td>aes_32_3_keyfind_1.cnf</td>\n",
       "      <td>708</td>\n",
       "      <td>2540</td>\n",
       "      <td>29955.8000</td>\n",
       "      <td>63606216</td>\n",
       "      <td>67879733</td>\n",
       "      <td>118900.0</td>\n",
       "      <td>7527975091</td>\n",
       "      <td>0.0</td>\n",
       "      <td>1.0</td>\n",
       "      <td>1.0</td>\n",
       "      <td>0.0</td>\n",
       "      <td>2709.81</td>\n",
       "    </tr>\n",
       "    <tr>\n",
       "      <th>631</th>\n",
       "      <td>exp3</td>\n",
       "      <td>wrapperClause</td>\n",
       "      <td>aes_32_3_keyfind_1.cnf</td>\n",
       "      <td>708</td>\n",
       "      <td>2540</td>\n",
       "      <td>70.7342</td>\n",
       "      <td>508804</td>\n",
       "      <td>573665</td>\n",
       "      <td>1581.0</td>\n",
       "      <td>28301186</td>\n",
       "      <td>0.0</td>\n",
       "      <td>1.0</td>\n",
       "      <td>1.0</td>\n",
       "      <td>0.0</td>\n",
       "      <td>2709.81</td>\n",
       "    </tr>\n",
       "    <tr>\n",
       "      <th>632</th>\n",
       "      <td>exp4</td>\n",
       "      <td>wrapper-luby</td>\n",
       "      <td>aes_32_3_keyfind_1.cnf</td>\n",
       "      <td>708</td>\n",
       "      <td>2540</td>\n",
       "      <td>6143.3000</td>\n",
       "      <td>18092205</td>\n",
       "      <td>19332597</td>\n",
       "      <td>27034.0</td>\n",
       "      <td>1159310944</td>\n",
       "      <td>0.0</td>\n",
       "      <td>1.0</td>\n",
       "      <td>1.0</td>\n",
       "      <td>0.0</td>\n",
       "      <td>2709.81</td>\n",
       "    </tr>\n",
       "    <tr>\n",
       "      <th>633</th>\n",
       "      <td>exp2</td>\n",
       "      <td>glucose</td>\n",
       "      <td>aes_32_3_keyfind_1.cnf</td>\n",
       "      <td>708</td>\n",
       "      <td>2540</td>\n",
       "      <td>387.9940</td>\n",
       "      <td>2067514</td>\n",
       "      <td>2196683</td>\n",
       "      <td>1464.0</td>\n",
       "      <td>124316686</td>\n",
       "      <td>0.0</td>\n",
       "      <td>1.0</td>\n",
       "      <td>1.0</td>\n",
       "      <td>0.0</td>\n",
       "      <td>2709.81</td>\n",
       "    </tr>\n",
       "    <tr>\n",
       "      <th>634</th>\n",
       "      <td>exp1</td>\n",
       "      <td>glucose-NR</td>\n",
       "      <td>aes_32_3_keyfind_1.cnf</td>\n",
       "      <td>708</td>\n",
       "      <td>2540</td>\n",
       "      <td>46869.9000</td>\n",
       "      <td>7203479</td>\n",
       "      <td>7551480</td>\n",
       "      <td>3381.0</td>\n",
       "      <td>514050675</td>\n",
       "      <td>0.0</td>\n",
       "      <td>1.0</td>\n",
       "      <td>1.0</td>\n",
       "      <td>0.0</td>\n",
       "      <td>2709.81</td>\n",
       "    </tr>\n",
       "    <tr>\n",
       "      <th>635</th>\n",
       "      <td>exp3</td>\n",
       "      <td>wrapperLBD</td>\n",
       "      <td>aes_32_3_keyfind_1.cnf</td>\n",
       "      <td>708</td>\n",
       "      <td>2540</td>\n",
       "      <td>6627.2500</td>\n",
       "      <td>19059299</td>\n",
       "      <td>20044450</td>\n",
       "      <td>9694.0</td>\n",
       "      <td>1308808783</td>\n",
       "      <td>0.0</td>\n",
       "      <td>1.0</td>\n",
       "      <td>1.0</td>\n",
       "      <td>0.0</td>\n",
       "      <td>2709.81</td>\n",
       "    </tr>\n",
       "    <tr>\n",
       "      <th>636</th>\n",
       "      <td>exp2</td>\n",
       "      <td>COMiniSatPS-3</td>\n",
       "      <td>aes_32_3_keyfind_1.cnf</td>\n",
       "      <td>708</td>\n",
       "      <td>2540</td>\n",
       "      <td>12628.0000</td>\n",
       "      <td>43181777</td>\n",
       "      <td>44591552</td>\n",
       "      <td>11274.0</td>\n",
       "      <td>5194660702</td>\n",
       "      <td>0.0</td>\n",
       "      <td>1.0</td>\n",
       "      <td>1.0</td>\n",
       "      <td>0.0</td>\n",
       "      <td>2709.81</td>\n",
       "    </tr>\n",
       "    <tr>\n",
       "      <th>637</th>\n",
       "      <td>exp2</td>\n",
       "      <td>COMiniSatPS-5</td>\n",
       "      <td>aes_32_3_keyfind_1.cnf</td>\n",
       "      <td>0</td>\n",
       "      <td>0</td>\n",
       "      <td>0.0000</td>\n",
       "      <td>0</td>\n",
       "      <td>0</td>\n",
       "      <td>0.0</td>\n",
       "      <td>0</td>\n",
       "      <td>0.0</td>\n",
       "      <td>1.0</td>\n",
       "      <td>1.0</td>\n",
       "      <td>0.0</td>\n",
       "      <td>2709.81</td>\n",
       "    </tr>\n",
       "    <tr>\n",
       "      <th>638</th>\n",
       "      <td>exp2</td>\n",
       "      <td>COMiniSatPS-6</td>\n",
       "      <td>aes_32_3_keyfind_1.cnf</td>\n",
       "      <td>0</td>\n",
       "      <td>0</td>\n",
       "      <td>0.0000</td>\n",
       "      <td>0</td>\n",
       "      <td>0</td>\n",
       "      <td>0.0</td>\n",
       "      <td>0</td>\n",
       "      <td>0.0</td>\n",
       "      <td>1.0</td>\n",
       "      <td>1.0</td>\n",
       "      <td>0.0</td>\n",
       "      <td>2709.81</td>\n",
       "    </tr>\n",
       "    <tr>\n",
       "      <th>639</th>\n",
       "      <td>exp5</td>\n",
       "      <td>wrapper-base</td>\n",
       "      <td>aes_32_3_keyfind_1.cnf</td>\n",
       "      <td>708</td>\n",
       "      <td>2540</td>\n",
       "      <td>2121.1400</td>\n",
       "      <td>7131068</td>\n",
       "      <td>7596476</td>\n",
       "      <td>6705.0</td>\n",
       "      <td>464722122</td>\n",
       "      <td>0.0</td>\n",
       "      <td>1.0</td>\n",
       "      <td>1.0</td>\n",
       "      <td>0.0</td>\n",
       "      <td>2709.81</td>\n",
       "    </tr>\n",
       "    <tr>\n",
       "      <th>640</th>\n",
       "      <td>exp2</td>\n",
       "      <td>lingeling-ayv</td>\n",
       "      <td>aes_32_3_keyfind_1.cnf</td>\n",
       "      <td>708</td>\n",
       "      <td>2664</td>\n",
       "      <td>1747.1000</td>\n",
       "      <td>6987775</td>\n",
       "      <td>7641856</td>\n",
       "      <td>NaN</td>\n",
       "      <td>441406318</td>\n",
       "      <td>0.0</td>\n",
       "      <td>1.0</td>\n",
       "      <td>1.0</td>\n",
       "      <td>0.0</td>\n",
       "      <td>2709.81</td>\n",
       "    </tr>\n",
       "    <tr>\n",
       "      <th>641</th>\n",
       "      <td>exp1</td>\n",
       "      <td>glucose</td>\n",
       "      <td>aes_32_3_keyfind_1.cnf</td>\n",
       "      <td>708</td>\n",
       "      <td>2540</td>\n",
       "      <td>398.0500</td>\n",
       "      <td>2067514</td>\n",
       "      <td>2196683</td>\n",
       "      <td>1464.0</td>\n",
       "      <td>124316686</td>\n",
       "      <td>0.0</td>\n",
       "      <td>1.0</td>\n",
       "      <td>1.0</td>\n",
       "      <td>0.0</td>\n",
       "      <td>2709.81</td>\n",
       "    </tr>\n",
       "    <tr>\n",
       "      <th>642</th>\n",
       "      <td>exp2</td>\n",
       "      <td>COMiniSatPS-1</td>\n",
       "      <td>aes_32_3_keyfind_1.cnf</td>\n",
       "      <td>708</td>\n",
       "      <td>2540</td>\n",
       "      <td>17195.6000</td>\n",
       "      <td>105857875</td>\n",
       "      <td>122110245</td>\n",
       "      <td>556821.0</td>\n",
       "      <td>12238858616</td>\n",
       "      <td>0.0</td>\n",
       "      <td>1.0</td>\n",
       "      <td>1.0</td>\n",
       "      <td>0.0</td>\n",
       "      <td>2709.81</td>\n",
       "    </tr>\n",
       "    <tr>\n",
       "      <th>643</th>\n",
       "      <td>exp2</td>\n",
       "      <td>lingeling-aqw</td>\n",
       "      <td>aes_32_3_keyfind_1.cnf</td>\n",
       "      <td>708</td>\n",
       "      <td>2664</td>\n",
       "      <td>905.4000</td>\n",
       "      <td>5442645</td>\n",
       "      <td>5920157</td>\n",
       "      <td>NaN</td>\n",
       "      <td>395075878</td>\n",
       "      <td>0.0</td>\n",
       "      <td>1.0</td>\n",
       "      <td>1.0</td>\n",
       "      <td>0.0</td>\n",
       "      <td>2709.81</td>\n",
       "    </tr>\n",
       "    <tr>\n",
       "      <th>644</th>\n",
       "      <td>exp5</td>\n",
       "      <td>wrapper-85</td>\n",
       "      <td>aes_32_3_keyfind_1.cnf</td>\n",
       "      <td>708</td>\n",
       "      <td>2540</td>\n",
       "      <td>338.6330</td>\n",
       "      <td>2115974</td>\n",
       "      <td>2371636</td>\n",
       "      <td>6910.0</td>\n",
       "      <td>127991358</td>\n",
       "      <td>0.0</td>\n",
       "      <td>1.0</td>\n",
       "      <td>1.0</td>\n",
       "      <td>0.0</td>\n",
       "      <td>2709.81</td>\n",
       "    </tr>\n",
       "    <tr>\n",
       "      <th>645</th>\n",
       "      <td>exp2</td>\n",
       "      <td>COMiniSatPS-2</td>\n",
       "      <td>aes_32_3_keyfind_1.cnf</td>\n",
       "      <td>708</td>\n",
       "      <td>2540</td>\n",
       "      <td>2000.0500</td>\n",
       "      <td>13448186</td>\n",
       "      <td>13945121</td>\n",
       "      <td>775.0</td>\n",
       "      <td>1685092220</td>\n",
       "      <td>0.0</td>\n",
       "      <td>1.0</td>\n",
       "      <td>1.0</td>\n",
       "      <td>0.0</td>\n",
       "      <td>2709.81</td>\n",
       "    </tr>\n",
       "    <tr>\n",
       "      <th>646</th>\n",
       "      <td>exp4</td>\n",
       "      <td>wrapper-glucose</td>\n",
       "      <td>aes_32_3_keyfind_1.cnf</td>\n",
       "      <td>708</td>\n",
       "      <td>2540</td>\n",
       "      <td>6228.0500</td>\n",
       "      <td>19059299</td>\n",
       "      <td>20044450</td>\n",
       "      <td>9694.0</td>\n",
       "      <td>1308808783</td>\n",
       "      <td>0.0</td>\n",
       "      <td>1.0</td>\n",
       "      <td>1.0</td>\n",
       "      <td>0.0</td>\n",
       "      <td>2709.81</td>\n",
       "    </tr>\n",
       "    <tr>\n",
       "      <th>647</th>\n",
       "      <td>exp2</td>\n",
       "      <td>COMiniSatPS-4</td>\n",
       "      <td>aes_32_3_keyfind_1.cnf</td>\n",
       "      <td>0</td>\n",
       "      <td>0</td>\n",
       "      <td>0.0000</td>\n",
       "      <td>0</td>\n",
       "      <td>0</td>\n",
       "      <td>0.0</td>\n",
       "      <td>0</td>\n",
       "      <td>0.0</td>\n",
       "      <td>1.0</td>\n",
       "      <td>1.0</td>\n",
       "      <td>0.0</td>\n",
       "      <td>2709.81</td>\n",
       "    </tr>\n",
       "    <tr>\n",
       "      <th>648</th>\n",
       "      <td>exp5</td>\n",
       "      <td>wrapper-60</td>\n",
       "      <td>aes_32_3_keyfind_1.cnf</td>\n",
       "      <td>708</td>\n",
       "      <td>2540</td>\n",
       "      <td>898.5680</td>\n",
       "      <td>3511970</td>\n",
       "      <td>3855282</td>\n",
       "      <td>8571.0</td>\n",
       "      <td>194123632</td>\n",
       "      <td>0.0</td>\n",
       "      <td>1.0</td>\n",
       "      <td>1.0</td>\n",
       "      <td>0.0</td>\n",
       "      <td>2709.81</td>\n",
       "    </tr>\n",
       "    <tr>\n",
       "      <th>649</th>\n",
       "      <td>exp5</td>\n",
       "      <td>wrapper-95</td>\n",
       "      <td>aes_32_3_keyfind_1.cnf</td>\n",
       "      <td>708</td>\n",
       "      <td>2540</td>\n",
       "      <td>2775.0100</td>\n",
       "      <td>9039844</td>\n",
       "      <td>9612879</td>\n",
       "      <td>8567.0</td>\n",
       "      <td>625440467</td>\n",
       "      <td>0.0</td>\n",
       "      <td>1.0</td>\n",
       "      <td>1.0</td>\n",
       "      <td>0.0</td>\n",
       "      <td>2709.81</td>\n",
       "    </tr>\n",
       "    <tr>\n",
       "      <th>650</th>\n",
       "      <td>exp2</td>\n",
       "      <td>SWDiA5BY</td>\n",
       "      <td>aes_32_3_keyfind_1.cnf</td>\n",
       "      <td>708</td>\n",
       "      <td>2540</td>\n",
       "      <td>5437.8700</td>\n",
       "      <td>14701737</td>\n",
       "      <td>15420582</td>\n",
       "      <td>3618.0</td>\n",
       "      <td>1006506009</td>\n",
       "      <td>0.0</td>\n",
       "      <td>1.0</td>\n",
       "      <td>1.0</td>\n",
       "      <td>0.0</td>\n",
       "      <td>2709.81</td>\n",
       "    </tr>\n",
       "  </tbody>\n",
       "</table>\n",
       "</div>"
      ],
      "text/plain": [
       "    experiment           solver                 formula  variables  clauses  \\\n",
       "630       exp2    COMiniSatPS-0  aes_32_3_keyfind_1.cnf        708     2540   \n",
       "631       exp3    wrapperClause  aes_32_3_keyfind_1.cnf        708     2540   \n",
       "632       exp4     wrapper-luby  aes_32_3_keyfind_1.cnf        708     2540   \n",
       "633       exp2          glucose  aes_32_3_keyfind_1.cnf        708     2540   \n",
       "634       exp1       glucose-NR  aes_32_3_keyfind_1.cnf        708     2540   \n",
       "635       exp3       wrapperLBD  aes_32_3_keyfind_1.cnf        708     2540   \n",
       "636       exp2    COMiniSatPS-3  aes_32_3_keyfind_1.cnf        708     2540   \n",
       "637       exp2    COMiniSatPS-5  aes_32_3_keyfind_1.cnf          0        0   \n",
       "638       exp2    COMiniSatPS-6  aes_32_3_keyfind_1.cnf          0        0   \n",
       "639       exp5     wrapper-base  aes_32_3_keyfind_1.cnf        708     2540   \n",
       "640       exp2    lingeling-ayv  aes_32_3_keyfind_1.cnf        708     2664   \n",
       "641       exp1          glucose  aes_32_3_keyfind_1.cnf        708     2540   \n",
       "642       exp2    COMiniSatPS-1  aes_32_3_keyfind_1.cnf        708     2540   \n",
       "643       exp2    lingeling-aqw  aes_32_3_keyfind_1.cnf        708     2664   \n",
       "644       exp5       wrapper-85  aes_32_3_keyfind_1.cnf        708     2540   \n",
       "645       exp2    COMiniSatPS-2  aes_32_3_keyfind_1.cnf        708     2540   \n",
       "646       exp4  wrapper-glucose  aes_32_3_keyfind_1.cnf        708     2540   \n",
       "647       exp2    COMiniSatPS-4  aes_32_3_keyfind_1.cnf          0        0   \n",
       "648       exp5       wrapper-60  aes_32_3_keyfind_1.cnf        708     2540   \n",
       "649       exp5       wrapper-95  aes_32_3_keyfind_1.cnf        708     2540   \n",
       "650       exp2         SWDiA5BY  aes_32_3_keyfind_1.cnf        708     2540   \n",
       "\n",
       "        runtime  conflicts  decisions  restarts  propagations  entropy  \\\n",
       "630  29955.8000   63606216   67879733  118900.0    7527975091      0.0   \n",
       "631     70.7342     508804     573665    1581.0      28301186      0.0   \n",
       "632   6143.3000   18092205   19332597   27034.0    1159310944      0.0   \n",
       "633    387.9940    2067514    2196683    1464.0     124316686      0.0   \n",
       "634  46869.9000    7203479    7551480    3381.0     514050675      0.0   \n",
       "635   6627.2500   19059299   20044450    9694.0    1308808783      0.0   \n",
       "636  12628.0000   43181777   44591552   11274.0    5194660702      0.0   \n",
       "637      0.0000          0          0       0.0             0      0.0   \n",
       "638      0.0000          0          0       0.0             0      0.0   \n",
       "639   2121.1400    7131068    7596476    6705.0     464722122      0.0   \n",
       "640   1747.1000    6987775    7641856       NaN     441406318      0.0   \n",
       "641    398.0500    2067514    2196683    1464.0     124316686      0.0   \n",
       "642  17195.6000  105857875  122110245  556821.0   12238858616      0.0   \n",
       "643    905.4000    5442645    5920157       NaN     395075878      0.0   \n",
       "644    338.6330    2115974    2371636    6910.0     127991358      0.0   \n",
       "645   2000.0500   13448186   13945121     775.0    1685092220      0.0   \n",
       "646   6228.0500   19059299   20044450    9694.0    1308808783      0.0   \n",
       "647      0.0000          0          0       0.0             0      0.0   \n",
       "648    898.5680    3511970    3855282    8571.0     194123632      0.0   \n",
       "649   2775.0100    9039844    9612879    8567.0     625440467      0.0   \n",
       "650   5437.8700   14701737   15420582    3618.0    1006506009      0.0   \n",
       "\n",
       "     backbone  num_sols  chi_square  cpu_time  \n",
       "630       1.0       1.0         0.0   2709.81  \n",
       "631       1.0       1.0         0.0   2709.81  \n",
       "632       1.0       1.0         0.0   2709.81  \n",
       "633       1.0       1.0         0.0   2709.81  \n",
       "634       1.0       1.0         0.0   2709.81  \n",
       "635       1.0       1.0         0.0   2709.81  \n",
       "636       1.0       1.0         0.0   2709.81  \n",
       "637       1.0       1.0         0.0   2709.81  \n",
       "638       1.0       1.0         0.0   2709.81  \n",
       "639       1.0       1.0         0.0   2709.81  \n",
       "640       1.0       1.0         0.0   2709.81  \n",
       "641       1.0       1.0         0.0   2709.81  \n",
       "642       1.0       1.0         0.0   2709.81  \n",
       "643       1.0       1.0         0.0   2709.81  \n",
       "644       1.0       1.0         0.0   2709.81  \n",
       "645       1.0       1.0         0.0   2709.81  \n",
       "646       1.0       1.0         0.0   2709.81  \n",
       "647       1.0       1.0         0.0   2709.81  \n",
       "648       1.0       1.0         0.0   2709.81  \n",
       "649       1.0       1.0         0.0   2709.81  \n",
       "650       1.0       1.0         0.0   2709.81  "
      ]
     },
     "execution_count": 143,
     "metadata": {},
     "output_type": "execute_result"
    }
   ],
   "source": [
    "df[df['formula'] == 'aes_32_3_keyfind_1.cnf']"
   ]
  },
  {
   "cell_type": "code",
   "execution_count": 146,
   "metadata": {},
   "outputs": [],
   "source": [
    "for f in terminated_formulas:\n",
    "    df = df.drop(df[df['formula'] == f].index)"
   ]
  },
  {
   "cell_type": "code",
   "execution_count": 149,
   "metadata": {},
   "outputs": [],
   "source": [
    "df = df.reset_index()"
   ]
  },
  {
   "cell_type": "markdown",
   "metadata": {},
   "source": [
    "TODO:results file isnt good (should filter terminated/unsat formulas in the python script instead of here)."
   ]
  },
  {
   "cell_type": "markdown",
   "metadata": {},
   "source": [
    "## Extract formulas list"
   ]
  },
  {
   "cell_type": "code",
   "execution_count": 150,
   "metadata": {},
   "outputs": [
    {
     "name": "stdout",
     "output_type": "stream",
     "text": [
      "40\n"
     ]
    }
   ],
   "source": [
    "formulas_set = set()\n",
    "for index, row in df.iterrows():\n",
    "    formulas_set.add(row['formula'])\n",
    "\n",
    "print(len(formulas_set))"
   ]
  },
  {
   "cell_type": "markdown",
   "metadata": {},
   "source": [
    "# Helpers for experiments"
   ]
  },
  {
   "cell_type": "code",
   "execution_count": 82,
   "metadata": {},
   "outputs": [],
   "source": [
    "def create_secondary_dataframe(df, exp, formulas_set, a_val, b_val):\n",
    "    \"\"\"\n",
    "        Creates a secondary data frame for checking runtime diffs\n",
    "        columns = ['formula', 'entropy', 'solution_density', 'backbone', 'diff']\n",
    "        a_val and b_val are the actual solvers\n",
    "        diff is a_runtime - b_runtime\n",
    "    \"\"\"\n",
    "    # get experiment\n",
    "    exp_df = df[df['experiment'] == exp]\n",
    "    # create df\n",
    "    columns = ['formula', 'entropy', 'solution_density', 'backbone', 'diff']\n",
    "    out_df = pd.DataFrame(columns=columns)\n",
    "\n",
    "    for index, f in enumerate(formulas_set):\n",
    "        # get formula,solver row\n",
    "        df_a = exp_df[(df['formula'] == f) & (df['solver'] == a_val)]\n",
    "        df_b = exp_df[(df['formula'] == f) & (df['solver'] == b_val)]\n",
    "        # should have 1 rows after manipulation\n",
    "        assert(dfa.shape[0] == 1)\n",
    "        assert(dfb.shape[0] == 1)\n",
    "\n",
    "        out_df.loc[index] = [f, \n",
    "                              df_a.iloc[0]['entropy'], \n",
    "                              math.log(df_a.iloc[0]['num_sols'], 2) / df_a.iloc[0]['variables'], \n",
    "                              df_a.iloc[0]['backbone'], \n",
    "                              df_a.iloc[0]['runtime'] - df_b.iloc[0]['runtime']\n",
    "                             ]\n",
    "    return out_df"
   ]
  },
  {
   "cell_type": "code",
   "execution_count": 83,
   "metadata": {
    "collapsed": true
   },
   "outputs": [],
   "source": [
    "def plotter(df, exp, formulas_set, a_val, b_val, x_property, x_lim=None, y_lim=None):\n",
    "    \"\"\"\n",
    "        Plot diff (a_val - b_val) with x as x_property (could be entropy, num_sols, backbone)\n",
    "    \"\"\"\n",
    "    exp_df = create_secondary_dataframe(df, exp, formulas_set, a_val, b_val)\n",
    "    x = exp_df[x_property]\n",
    "    y = exp_df['diff']\n",
    "    # regression line\n",
    "    m, b = np.polyfit(x, y, 1)\n",
    "    plt.plot(x , y, 'ro')\n",
    "    plt.plot(x, m*x + b, '-')\n",
    "    if x_lim:\n",
    "        plt.xlim(x_lim)\n",
    "    if y_lim:\n",
    "        plt.ylim(y_lim)\n",
    "    plt.xlabel(str(x_property))\n",
    "    plt.ylabel('Runtime (seconds)')\n",
    "    title = 'Delta runtime: ' + str(a_val) + '-' + str(b_val)\n",
    "    plt.title(title)\n",
    "    plt.show()"
   ]
  },
  {
   "cell_type": "code",
   "execution_count": 87,
   "metadata": {
    "collapsed": true
   },
   "outputs": [],
   "source": [
    "def entropy_sols_plotter(df, exp, formulas_set, a_val, b_val):\n",
    "    plotter(df, exp, formulas_set, a_val, b_val, 'entropy', x_lim=(0,1))\n",
    "    plotter(df, exp, formulas_set, a_val, b_val, 'solution_density', x_lim=(0,1))"
   ]
  },
  {
   "cell_type": "markdown",
   "metadata": {},
   "source": [
    "# Exp1 - Database reduction: (With - Without)"
   ]
  },
  {
   "cell_type": "markdown",
   "metadata": {},
   "source": [
    "## Plots"
   ]
  },
  {
   "cell_type": "code",
   "execution_count": 88,
   "metadata": {},
   "outputs": [
    {
     "name": "stderr",
     "output_type": "stream",
     "text": [
      "/home/deebee/anaconda2/lib/python2.7/site-packages/ipykernel/__main__.py:16: UserWarning: Boolean Series key will be reindexed to match DataFrame index.\n",
      "/home/deebee/anaconda2/lib/python2.7/site-packages/ipykernel/__main__.py:17: UserWarning: Boolean Series key will be reindexed to match DataFrame index.\n"
     ]
    },
    {
     "data": {
      "image/png": "[encoded data removed]",
      "text/plain": [
       "<matplotlib.figure.Figure at 0x7fa1215f6bd0>"
      ]
     },
     "metadata": {},
     "output_type": "display_data"
    },
    {
     "data": {
      "image/png": "[encoded data removed]",
      "text/plain": [
       "<matplotlib.figure.Figure at 0x7fa1215e1050>"
      ]
     },
     "metadata": {},
     "output_type": "display_data"
    }
   ],
   "source": [
    "entropy_sols_plotter(df, 'exp1', formulas_set, 'glucose-NR', 'glucose')"
   ]
  },
  {
   "cell_type": "markdown",
   "metadata": {},
   "source": [
    "There's high variation with low entropy (and low density), and it stabilizes as entropy increases."
   ]
  },
  {
   "cell_type": "markdown",
   "metadata": {},
   "source": [
    "# Exp2: Controlling lbd-cut (LBD1 - LBD5)"
   ]
  },
  {
   "cell_type": "code",
   "execution_count": 89,
   "metadata": {},
   "outputs": [
    {
     "name": "stderr",
     "output_type": "stream",
     "text": [
      "/home/deebee/anaconda2/lib/python2.7/site-packages/ipykernel/__main__.py:16: UserWarning: Boolean Series key will be reindexed to match DataFrame index.\n",
      "/home/deebee/anaconda2/lib/python2.7/site-packages/ipykernel/__main__.py:17: UserWarning: Boolean Series key will be reindexed to match DataFrame index.\n"
     ]
    },
    {
     "data": {
      "image/png": "[encoded data removed]",
      "text/plain": [
       "<matplotlib.figure.Figure at 0x7fa12171b510>"
      ]
     },
     "metadata": {},
     "output_type": "display_data"
    },
    {
     "data": {
      "image/png": "[encoded data removed]",
      "text/plain": [
       "<matplotlib.figure.Figure at 0x7fa120fbe990>"
      ]
     },
     "metadata": {},
     "output_type": "display_data"
    }
   ],
   "source": [
    "entropy_sols_plotter(df, 'exp2', formulas_set, 'COMiniSatPS-1', 'COMiniSatPS-5')"
   ]
  },
  {
   "cell_type": "markdown",
   "metadata": {},
   "source": [
    "Trend same as our paper"
   ]
  },
  {
   "cell_type": "markdown",
   "metadata": {},
   "source": [
    "## LBD0 - LBD5"
   ]
  },
  {
   "cell_type": "code",
   "execution_count": 90,
   "metadata": {},
   "outputs": [
    {
     "name": "stderr",
     "output_type": "stream",
     "text": [
      "/home/deebee/anaconda2/lib/python2.7/site-packages/ipykernel/__main__.py:16: UserWarning: Boolean Series key will be reindexed to match DataFrame index.\n",
      "/home/deebee/anaconda2/lib/python2.7/site-packages/ipykernel/__main__.py:17: UserWarning: Boolean Series key will be reindexed to match DataFrame index.\n"
     ]
    },
    {
     "data": {
      "image/png": "[encoded data removed]",
      "text/plain": [
       "<matplotlib.figure.Figure at 0x7fa12176c8d0>"
      ]
     },
     "metadata": {},
     "output_type": "display_data"
    },
    {
     "data": {
      "image/png": "[encoded data removed]",
      "text/plain": [
       "<matplotlib.figure.Figure at 0x7fa121776fd0>"
      ]
     },
     "metadata": {},
     "output_type": "display_data"
    }
   ],
   "source": [
    "entropy_sols_plotter(df, 'exp2', formulas_set, 'COMiniSatPS-0', 'COMiniSatPS-5')"
   ]
  },
  {
   "cell_type": "markdown",
   "metadata": {},
   "source": [
    "Large variation for low entropy"
   ]
  },
  {
   "cell_type": "markdown",
   "metadata": {},
   "source": [
    "# Exp3 - Saving criterion - Clause-size - Lbd"
   ]
  },
  {
   "cell_type": "code",
   "execution_count": 91,
   "metadata": {},
   "outputs": [
    {
     "name": "stderr",
     "output_type": "stream",
     "text": [
      "/home/deebee/anaconda2/lib/python2.7/site-packages/ipykernel/__main__.py:16: UserWarning: Boolean Series key will be reindexed to match DataFrame index.\n",
      "/home/deebee/anaconda2/lib/python2.7/site-packages/ipykernel/__main__.py:17: UserWarning: Boolean Series key will be reindexed to match DataFrame index.\n"
     ]
    },
    {
     "data": {
      "image/png": "[encoded data removed]",
      "text/plain": [
       "<matplotlib.figure.Figure at 0x7fa1213b9990>"
      ]
     },
     "metadata": {},
     "output_type": "display_data"
    },
    {
     "data": {
      "image/png": "[encoded data removed]",
      "text/plain": [
       "<matplotlib.figure.Figure at 0x7fa1213ae890>"
      ]
     },
     "metadata": {},
     "output_type": "display_data"
    }
   ],
   "source": [
    "entropy_sols_plotter(df, 'exp3', formulas_set, 'wrapperClause', 'wrapperLBD')"
   ]
  },
  {
   "cell_type": "markdown",
   "metadata": {},
   "source": [
    "The variation is more significant with low entropy and low density. Trends aren't like our paper (but maybe it's early to decide)"
   ]
  },
  {
   "cell_type": "markdown",
   "metadata": {},
   "source": [
    "# Exp4 - Restarts type (Luby - Glucose)"
   ]
  },
  {
   "cell_type": "code",
   "execution_count": 94,
   "metadata": {},
   "outputs": [
    {
     "name": "stderr",
     "output_type": "stream",
     "text": [
      "/home/deebee/anaconda2/lib/python2.7/site-packages/ipykernel/__main__.py:16: UserWarning: Boolean Series key will be reindexed to match DataFrame index.\n",
      "/home/deebee/anaconda2/lib/python2.7/site-packages/ipykernel/__main__.py:17: UserWarning: Boolean Series key will be reindexed to match DataFrame index.\n"
     ]
    },
    {
     "data": {
      "image/png": "[encoded data removed]",
      "text/plain": [
       "<matplotlib.figure.Figure at 0x7fa1213c6310>"
      ]
     },
     "metadata": {},
     "output_type": "display_data"
    },
    {
     "data": {
      "image/png": "[encoded data removed]",
      "text/plain": [
       "<matplotlib.figure.Figure at 0x7fa121505d90>"
      ]
     },
     "metadata": {},
     "output_type": "display_data"
    }
   ],
   "source": [
    "entropy_sols_plotter(df, 'exp4', formulas_set, 'wrapper-luby', 'wrapper-glucose')"
   ]
  },
  {
   "cell_type": "markdown",
   "metadata": {},
   "source": [
    "Same trend as our paper"
   ]
  },
  {
   "cell_type": "markdown",
   "metadata": {},
   "source": [
    "# Exp5 - Variable decay factor (G0.6 - G0.95)"
   ]
  },
  {
   "cell_type": "code",
   "execution_count": 95,
   "metadata": {},
   "outputs": [
    {
     "name": "stderr",
     "output_type": "stream",
     "text": [
      "/home/deebee/anaconda2/lib/python2.7/site-packages/ipykernel/__main__.py:16: UserWarning: Boolean Series key will be reindexed to match DataFrame index.\n",
      "/home/deebee/anaconda2/lib/python2.7/site-packages/ipykernel/__main__.py:17: UserWarning: Boolean Series key will be reindexed to match DataFrame index.\n"
     ]
    },
    {
     "data": {
      "image/png": "[encoded data removed]",
      "text/plain": [
       "<matplotlib.figure.Figure at 0x7fa1216a4610>"
      ]
     },
     "metadata": {},
     "output_type": "display_data"
    },
    {
     "data": {
      "image/png": "[encoded data removed]",
      "text/plain": [
       "<matplotlib.figure.Figure at 0x7fa121609250>"
      ]
     },
     "metadata": {},
     "output_type": "display_data"
    }
   ],
   "source": [
    "entropy_sols_plotter(df, 'exp5', formulas_set, 'wrapper-60', 'wrapper-95')"
   ]
  },
  {
   "cell_type": "markdown",
   "metadata": {},
   "source": [
    "For low entropy there's high variation, for high entropy the diff is low.\n",
    "\n",
    "About density - same as our paper"
   ]
  },
  {
   "cell_type": "markdown",
   "metadata": {},
   "source": [
    "# Summary"
   ]
  },
  {
   "cell_type": "markdown",
   "metadata": {},
   "source": [
    "The trends aren't 100% same as our paper (but not that different), although we have more formulas to add (2016-2017) to our dataset\n",
    "\n",
    "I think we should emphasize the large variation between the engines for low entropy, and small variation for high entropy. \n",
    "\n",
    "Why should we care about it? The entropy/solution density could be a new measure for the hardness of SATISFIABLE formulas. If for example we work in the industry on some kind of formula, we could run the entropy (solution density) approximator once to tell us if the formula has high or low entropy (solution density). Another scenario: tell something about the competitions formulas (do they have small entropy on average?).\n",
    "\n",
    "TODO:\n",
    "* We should filter formulas with runtime < 15 seconds (?)\n",
    "\n"
   ]
  },
  {
   "cell_type": "markdown",
   "metadata": {},
   "source": [
    "## How large is the variation between all engines (for entropy/density < threshold)?"
   ]
  },
  {
   "cell_type": "markdown",
   "metadata": {},
   "source": [
    "Global variation (all entropies)"
   ]
  },
  {
   "cell_type": "code",
   "execution_count": 117,
   "metadata": {},
   "outputs": [
    {
     "name": "stdout",
     "output_type": "stream",
     "text": [
      "(0.16319651219512168, 0.21862321138665783)\n"
     ]
    }
   ],
   "source": [
    "print(df['entropy'].mean(), df['entropy'].std())"
   ]
  },
  {
   "cell_type": "markdown",
   "metadata": {},
   "source": [
    "Low entropy"
   ]
  },
  {
   "cell_type": "code",
   "execution_count": 129,
   "metadata": {},
   "outputs": [],
   "source": [
    "def entropy_threshold_mean_std(df, threshold):\n",
    "    print 'low entropy'\n",
    "    print 'mean %lf, std %lf' % (df[df['entropy'] < threshold]['entropy'].mean(),\n",
    "                                 df[df['entropy'] < threshold]['entropy'].std())\n",
    "    print 'high entropy'\n",
    "    print 'mean %lf, std %lf' % (df[df['entropy'] >= threshold]['entropy'].mean(),\n",
    "                                 df[df['entropy'] >= threshold]['entropy'].std())"
   ]
  },
  {
   "cell_type": "code",
   "execution_count": 131,
   "metadata": {},
   "outputs": [
    {
     "name": "stdout",
     "output_type": "stream",
     "text": [
      "threshold: 0.100000\n",
      "low entropy\n",
      "mean 0.011662, std 0.027493\n",
      "high entropy\n",
      "mean 0.338658, std 0.211857\n",
      "\n",
      "threshold: 0.200000\n",
      "low entropy\n",
      "mean 0.042554, std 0.057983\n",
      "high entropy\n",
      "mean 0.492223, std 0.144655\n",
      "\n",
      "threshold: 0.300000\n",
      "low entropy\n",
      "mean 0.050346, std 0.071260\n",
      "high entropy\n",
      "mean 0.513032, std 0.135060\n",
      "\n",
      "threshold: 0.400000\n",
      "low entropy\n",
      "mean 0.067885, std 0.097696\n",
      "high entropy\n",
      "mean 0.556358, std 0.115703\n",
      "\n",
      "threshold: 0.500000\n",
      "low entropy\n",
      "mean 0.109741, std 0.151741\n",
      "high entropy\n",
      "mean 0.657664, std 0.075958\n",
      "\n",
      "threshold: 0.600000\n",
      "low entropy\n",
      "mean 0.133991, std 0.180936\n",
      "high entropy\n",
      "mean 0.732713, std 0.009631\n",
      "\n",
      "threshold: 0.700000\n",
      "low entropy\n",
      "mean 0.133991, std 0.180936\n",
      "high entropy\n",
      "mean 0.732713, std 0.009631\n",
      "\n",
      "threshold: 0.800000\n",
      "low entropy\n",
      "mean 0.163197, std 0.218623\n",
      "high entropy\n",
      "mean nan, std nan\n",
      "\n"
     ]
    }
   ],
   "source": [
    "for thres in [0.1, 0.2, 0.3, 0.4, 0.5, 0.6, 0.7, 0.8]:\n",
    "    print 'threshold: %lf' % thres\n",
    "    entropy_threshold_mean_std(df, thres)\n",
    "    print"
   ]
  },
  {
   "cell_type": "markdown",
   "metadata": {},
   "source": [
    "Notice how the standard deviation (normalized variance) is increasing for low entropy and decreasing for high entropy, as we increase the threshold."
   ]
  },
  {
   "cell_type": "code",
   "execution_count": null,
   "metadata": {
    "collapsed": true
   },
   "outputs": [],
   "source": []
  }
 ],
 "metadata": {
  "kernelspec": {
   "display_name": "Python 2",
   "language": "python",
   "name": "python2"
  },
  "language_info": {
   "codemirror_mode": {
    "name": "ipython",
    "version": 2
   },
   "file_extension": ".py",
   "mimetype": "text/x-python",
   "name": "python",
   "nbconvert_exporter": "python",
   "pygments_lexer": "ipython2",
   "version": "2.7.12"
  }
 },
 "nbformat": 4,
 "nbformat_minor": 1
}
