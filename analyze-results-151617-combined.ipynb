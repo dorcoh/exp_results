{
 "cells": [
  {
   "cell_type": "code",
   "execution_count": 1,
   "metadata": {
    "collapsed": true
   },
   "outputs": [],
   "source": [
    "import pandas as pd\n",
    "import matplotlib.pyplot as plt\n",
    "import math\n",
    "import numpy as np\n",
    "%matplotlib inline\n",
    "plt.rcParams['figure.figsize'] = (10.0, 8.0) # set default size of plots\n",
    "plt.rcParams['image.interpolation'] = 'nearest'\n",
    "plt.rcParams['image.cmap'] = 'gray'"
   ]
  },
  {
   "cell_type": "markdown",
   "metadata": {},
   "source": [
    "## Combine data frames"
   ]
  },
  {
   "cell_type": "code",
   "execution_count": 2,
   "metadata": {
    "collapsed": true
   },
   "outputs": [],
   "source": [
    "def sanity_check(df):\n",
    "    print df.shape\n",
    "    print 'num formulas'\n",
    "    print float(df.shape[0] / 21)"
   ]
  },
  {
   "cell_type": "code",
   "execution_count": 3,
   "metadata": {
    "collapsed": true
   },
   "outputs": [],
   "source": [
    "def duplicates_check(df):\n",
    "    \"\"\"\n",
    "    returns duplicate formulas list\n",
    "            by key=(exp,engine,formula)\n",
    "    prints duplicate rows\n",
    "    \"\"\"\n",
    "    df.set_index(['experiment', 'solver', 'formula'])\n",
    "    "
   ]
  },
  {
   "cell_type": "code",
   "execution_count": 4,
   "metadata": {},
   "outputs": [
    {
     "name": "stdout",
     "output_type": "stream",
     "text": [
      "(861, 15)\n",
      "num formulas\n",
      "41.0\n",
      "(441, 15)\n",
      "num formulas\n",
      "21.0\n"
     ]
    }
   ],
   "source": [
    "dfa = pd.read_csv('joined15.csv')\n",
    "dfb = pd.read_csv('joined1617.csv')\n",
    "sanity_check(dfa)\n",
    "sanity_check(dfb)"
   ]
  },
  {
   "cell_type": "code",
   "execution_count": 5,
   "metadata": {},
   "outputs": [
    {
     "name": "stdout",
     "output_type": "stream",
     "text": [
      "(1302, 15)\n",
      "num formulas\n",
      "62.0\n"
     ]
    }
   ],
   "source": [
    "df = dfa.append(dfb, ignore_index=True)\n",
    "sanity_check(df)"
   ]
  },
  {
   "cell_type": "code",
   "execution_count": 6,
   "metadata": {},
   "outputs": [
    {
     "data": {
      "text/html": [
       "<div>\n",
       "<style>\n",
       "    .dataframe thead tr:only-child th {\n",
       "        text-align: right;\n",
       "    }\n",
       "\n",
       "    .dataframe thead th {\n",
       "        text-align: left;\n",
       "    }\n",
       "\n",
       "    .dataframe tbody tr th {\n",
       "        vertical-align: top;\n",
       "    }\n",
       "</style>\n",
       "<table border=\"1\" class=\"dataframe\">\n",
       "  <thead>\n",
       "    <tr style=\"text-align: right;\">\n",
       "      <th></th>\n",
       "      <th>experiment</th>\n",
       "      <th>solver</th>\n",
       "      <th>formula</th>\n",
       "      <th>variables</th>\n",
       "      <th>clauses</th>\n",
       "      <th>runtime</th>\n",
       "      <th>conflicts</th>\n",
       "      <th>decisions</th>\n",
       "      <th>restarts</th>\n",
       "      <th>propagations</th>\n",
       "      <th>entropy</th>\n",
       "      <th>backbone</th>\n",
       "      <th>num_sols</th>\n",
       "      <th>chi_square</th>\n",
       "      <th>cpu_time</th>\n",
       "    </tr>\n",
       "  </thead>\n",
       "  <tbody>\n",
       "  </tbody>\n",
       "</table>\n",
       "</div>"
      ],
      "text/plain": [
       "Empty DataFrame\n",
       "Columns: [experiment, solver, formula, variables, clauses, runtime, conflicts, decisions, restarts, propagations, entropy, backbone, num_sols, chi_square, cpu_time]\n",
       "Index: []"
      ]
     },
     "execution_count": 6,
     "metadata": {},
     "output_type": "execute_result"
    }
   ],
   "source": [
    "df[df.duplicated(subset=['experiment','solver', 'formula'])]"
   ]
  },
  {
   "cell_type": "markdown",
   "metadata": {},
   "source": [
    "No duplicated formulas from 15,16,17 competitions"
   ]
  },
  {
   "cell_type": "markdown",
   "metadata": {},
   "source": [
    "## Load data frame\n",
    "### Perform data preperation"
   ]
  },
  {
   "cell_type": "code",
   "execution_count": 7,
   "metadata": {},
   "outputs": [
    {
     "data": {
      "text/html": [
       "<div>\n",
       "<style>\n",
       "    .dataframe thead tr:only-child th {\n",
       "        text-align: right;\n",
       "    }\n",
       "\n",
       "    .dataframe thead th {\n",
       "        text-align: left;\n",
       "    }\n",
       "\n",
       "    .dataframe tbody tr th {\n",
       "        vertical-align: top;\n",
       "    }\n",
       "</style>\n",
       "<table border=\"1\" class=\"dataframe\">\n",
       "  <thead>\n",
       "    <tr style=\"text-align: right;\">\n",
       "      <th></th>\n",
       "      <th>experiment</th>\n",
       "      <th>solver</th>\n",
       "      <th>formula</th>\n",
       "      <th>variables</th>\n",
       "      <th>clauses</th>\n",
       "      <th>runtime</th>\n",
       "      <th>conflicts</th>\n",
       "      <th>decisions</th>\n",
       "      <th>restarts</th>\n",
       "      <th>propagations</th>\n",
       "      <th>entropy</th>\n",
       "      <th>backbone</th>\n",
       "      <th>num_sols</th>\n",
       "      <th>chi_square</th>\n",
       "      <th>cpu_time</th>\n",
       "    </tr>\n",
       "  </thead>\n",
       "  <tbody>\n",
       "    <tr>\n",
       "      <th>0</th>\n",
       "      <td>exp2</td>\n",
       "      <td>COMiniSatPS-6</td>\n",
       "      <td>40bits_10.dimacs.cnf</td>\n",
       "      <td>446</td>\n",
       "      <td>12980</td>\n",
       "      <td>61.07870</td>\n",
       "      <td>224458</td>\n",
       "      <td>255797</td>\n",
       "      <td>475.0</td>\n",
       "      <td>16165613</td>\n",
       "      <td>0.130045</td>\n",
       "      <td>0.869955</td>\n",
       "      <td>2.0</td>\n",
       "      <td>0.0</td>\n",
       "      <td>4.79127</td>\n",
       "    </tr>\n",
       "    <tr>\n",
       "      <th>1</th>\n",
       "      <td>exp2</td>\n",
       "      <td>COMiniSatPS-5</td>\n",
       "      <td>40bits_10.dimacs.cnf</td>\n",
       "      <td>446</td>\n",
       "      <td>12980</td>\n",
       "      <td>36.70640</td>\n",
       "      <td>234944</td>\n",
       "      <td>274595</td>\n",
       "      <td>367.0</td>\n",
       "      <td>14949163</td>\n",
       "      <td>0.130045</td>\n",
       "      <td>0.869955</td>\n",
       "      <td>2.0</td>\n",
       "      <td>0.0</td>\n",
       "      <td>4.79127</td>\n",
       "    </tr>\n",
       "    <tr>\n",
       "      <th>2</th>\n",
       "      <td>exp5</td>\n",
       "      <td>wrapper-60</td>\n",
       "      <td>40bits_10.dimacs.cnf</td>\n",
       "      <td>446</td>\n",
       "      <td>12980</td>\n",
       "      <td>15.73160</td>\n",
       "      <td>117363</td>\n",
       "      <td>154663</td>\n",
       "      <td>356.0</td>\n",
       "      <td>4992154</td>\n",
       "      <td>0.130045</td>\n",
       "      <td>0.869955</td>\n",
       "      <td>2.0</td>\n",
       "      <td>0.0</td>\n",
       "      <td>4.79127</td>\n",
       "    </tr>\n",
       "    <tr>\n",
       "      <th>3</th>\n",
       "      <td>exp4</td>\n",
       "      <td>wrapper-glucose</td>\n",
       "      <td>40bits_10.dimacs.cnf</td>\n",
       "      <td>446</td>\n",
       "      <td>12980</td>\n",
       "      <td>2.13967</td>\n",
       "      <td>26069</td>\n",
       "      <td>32948</td>\n",
       "      <td>64.0</td>\n",
       "      <td>979665</td>\n",
       "      <td>0.130045</td>\n",
       "      <td>0.869955</td>\n",
       "      <td>2.0</td>\n",
       "      <td>0.0</td>\n",
       "      <td>4.79127</td>\n",
       "    </tr>\n",
       "    <tr>\n",
       "      <th>4</th>\n",
       "      <td>exp2</td>\n",
       "      <td>COMiniSatPS-4</td>\n",
       "      <td>40bits_10.dimacs.cnf</td>\n",
       "      <td>446</td>\n",
       "      <td>12980</td>\n",
       "      <td>48.07070</td>\n",
       "      <td>222780</td>\n",
       "      <td>258214</td>\n",
       "      <td>319.0</td>\n",
       "      <td>15949794</td>\n",
       "      <td>0.130045</td>\n",
       "      <td>0.869955</td>\n",
       "      <td>2.0</td>\n",
       "      <td>0.0</td>\n",
       "      <td>4.79127</td>\n",
       "    </tr>\n",
       "  </tbody>\n",
       "</table>\n",
       "</div>"
      ],
      "text/plain": [
       "  experiment           solver               formula  variables  clauses  \\\n",
       "0       exp2    COMiniSatPS-6  40bits_10.dimacs.cnf        446    12980   \n",
       "1       exp2    COMiniSatPS-5  40bits_10.dimacs.cnf        446    12980   \n",
       "2       exp5       wrapper-60  40bits_10.dimacs.cnf        446    12980   \n",
       "3       exp4  wrapper-glucose  40bits_10.dimacs.cnf        446    12980   \n",
       "4       exp2    COMiniSatPS-4  40bits_10.dimacs.cnf        446    12980   \n",
       "\n",
       "    runtime  conflicts  decisions  restarts  propagations   entropy  backbone  \\\n",
       "0  61.07870     224458     255797     475.0      16165613  0.130045  0.869955   \n",
       "1  36.70640     234944     274595     367.0      14949163  0.130045  0.869955   \n",
       "2  15.73160     117363     154663     356.0       4992154  0.130045  0.869955   \n",
       "3   2.13967      26069      32948      64.0        979665  0.130045  0.869955   \n",
       "4  48.07070     222780     258214     319.0      15949794  0.130045  0.869955   \n",
       "\n",
       "   num_sols  chi_square  cpu_time  \n",
       "0       2.0         0.0   4.79127  \n",
       "1       2.0         0.0   4.79127  \n",
       "2       2.0         0.0   4.79127  \n",
       "3       2.0         0.0   4.79127  \n",
       "4       2.0         0.0   4.79127  "
      ]
     },
     "execution_count": 7,
     "metadata": {},
     "output_type": "execute_result"
    }
   ],
   "source": [
    "df.head()"
   ]
  },
  {
   "cell_type": "code",
   "execution_count": 8,
   "metadata": {},
   "outputs": [
    {
     "data": {
      "text/html": [
       "<div>\n",
       "<style>\n",
       "    .dataframe thead tr:only-child th {\n",
       "        text-align: right;\n",
       "    }\n",
       "\n",
       "    .dataframe thead th {\n",
       "        text-align: left;\n",
       "    }\n",
       "\n",
       "    .dataframe tbody tr th {\n",
       "        vertical-align: top;\n",
       "    }\n",
       "</style>\n",
       "<table border=\"1\" class=\"dataframe\">\n",
       "  <thead>\n",
       "    <tr style=\"text-align: right;\">\n",
       "      <th></th>\n",
       "      <th>experiment</th>\n",
       "      <th>solver</th>\n",
       "      <th>formula</th>\n",
       "      <th>variables</th>\n",
       "      <th>clauses</th>\n",
       "      <th>runtime</th>\n",
       "      <th>conflicts</th>\n",
       "      <th>decisions</th>\n",
       "      <th>restarts</th>\n",
       "      <th>propagations</th>\n",
       "      <th>entropy</th>\n",
       "      <th>backbone</th>\n",
       "      <th>num_sols</th>\n",
       "      <th>chi_square</th>\n",
       "      <th>cpu_time</th>\n",
       "    </tr>\n",
       "  </thead>\n",
       "  <tbody>\n",
       "    <tr>\n",
       "      <th>637</th>\n",
       "      <td>exp2</td>\n",
       "      <td>COMiniSatPS-5</td>\n",
       "      <td>aes_32_3_keyfind_1.cnf</td>\n",
       "      <td>0</td>\n",
       "      <td>0</td>\n",
       "      <td>0.0</td>\n",
       "      <td>0</td>\n",
       "      <td>0</td>\n",
       "      <td>0.0</td>\n",
       "      <td>0</td>\n",
       "      <td>0.0</td>\n",
       "      <td>1.0</td>\n",
       "      <td>1.0</td>\n",
       "      <td>0.0</td>\n",
       "      <td>2709.81</td>\n",
       "    </tr>\n",
       "    <tr>\n",
       "      <th>638</th>\n",
       "      <td>exp2</td>\n",
       "      <td>COMiniSatPS-6</td>\n",
       "      <td>aes_32_3_keyfind_1.cnf</td>\n",
       "      <td>0</td>\n",
       "      <td>0</td>\n",
       "      <td>0.0</td>\n",
       "      <td>0</td>\n",
       "      <td>0</td>\n",
       "      <td>0.0</td>\n",
       "      <td>0</td>\n",
       "      <td>0.0</td>\n",
       "      <td>1.0</td>\n",
       "      <td>1.0</td>\n",
       "      <td>0.0</td>\n",
       "      <td>2709.81</td>\n",
       "    </tr>\n",
       "    <tr>\n",
       "      <th>647</th>\n",
       "      <td>exp2</td>\n",
       "      <td>COMiniSatPS-4</td>\n",
       "      <td>aes_32_3_keyfind_1.cnf</td>\n",
       "      <td>0</td>\n",
       "      <td>0</td>\n",
       "      <td>0.0</td>\n",
       "      <td>0</td>\n",
       "      <td>0</td>\n",
       "      <td>0.0</td>\n",
       "      <td>0</td>\n",
       "      <td>0.0</td>\n",
       "      <td>1.0</td>\n",
       "      <td>1.0</td>\n",
       "      <td>0.0</td>\n",
       "      <td>2709.81</td>\n",
       "    </tr>\n",
       "    <tr>\n",
       "      <th>1265</th>\n",
       "      <td>exp2</td>\n",
       "      <td>COMiniSatPS-6</td>\n",
       "      <td>aes_32_3_keyfind_2.cnf</td>\n",
       "      <td>0</td>\n",
       "      <td>0</td>\n",
       "      <td>0.0</td>\n",
       "      <td>0</td>\n",
       "      <td>0</td>\n",
       "      <td>0.0</td>\n",
       "      <td>0</td>\n",
       "      <td>0.0</td>\n",
       "      <td>1.0</td>\n",
       "      <td>1.0</td>\n",
       "      <td>0.0</td>\n",
       "      <td>1973.15</td>\n",
       "    </tr>\n",
       "  </tbody>\n",
       "</table>\n",
       "</div>"
      ],
      "text/plain": [
       "     experiment         solver                 formula  variables  clauses  \\\n",
       "637        exp2  COMiniSatPS-5  aes_32_3_keyfind_1.cnf          0        0   \n",
       "638        exp2  COMiniSatPS-6  aes_32_3_keyfind_1.cnf          0        0   \n",
       "647        exp2  COMiniSatPS-4  aes_32_3_keyfind_1.cnf          0        0   \n",
       "1265       exp2  COMiniSatPS-6  aes_32_3_keyfind_2.cnf          0        0   \n",
       "\n",
       "      runtime  conflicts  decisions  restarts  propagations  entropy  \\\n",
       "637       0.0          0          0       0.0             0      0.0   \n",
       "638       0.0          0          0       0.0             0      0.0   \n",
       "647       0.0          0          0       0.0             0      0.0   \n",
       "1265      0.0          0          0       0.0             0      0.0   \n",
       "\n",
       "      backbone  num_sols  chi_square  cpu_time  \n",
       "637        1.0       1.0         0.0   2709.81  \n",
       "638        1.0       1.0         0.0   2709.81  \n",
       "647        1.0       1.0         0.0   2709.81  \n",
       "1265       1.0       1.0         0.0   1973.15  "
      ]
     },
     "execution_count": 8,
     "metadata": {},
     "output_type": "execute_result"
    }
   ],
   "source": [
    "# timeout formulas (for Oh's experiments)\n",
    "df[df['variables'] == 0]"
   ]
  },
  {
   "cell_type": "code",
   "execution_count": 12,
   "metadata": {},
   "outputs": [
    {
     "name": "stdout",
     "output_type": "stream",
     "text": [
      "set(['aes_32_3_keyfind_2.cnf', 'aes_32_3_keyfind_1.cnf'])\n",
      "[637, 638, 647, 1265]\n"
     ]
    }
   ],
   "source": [
    "# find timeout formulas\n",
    "terminated_formulas = set()\n",
    "terminated_indices = list() \n",
    "for index, row in df[df['variables'] <= 0].iterrows():\n",
    "    terminated_formulas.add(row['formula'])\n",
    "    terminated_indices.append(index)\n",
    "\n",
    "print terminated_formulas\n",
    "print terminated_indices"
   ]
  },
  {
   "cell_type": "markdown",
   "metadata": {
    "collapsed": true
   },
   "source": [
    "#### find all terminated indices (for all other experiments too), or should we just delete those rows?"
   ]
  },
  {
   "cell_type": "code",
   "execution_count": 9,
   "metadata": {
    "scrolled": false
   },
   "outputs": [],
   "source": [
    "#df.drop(terminated_indices, inplace=True)\n",
    "#sanity_check(df)"
   ]
  },
  {
   "cell_type": "markdown",
   "metadata": {},
   "source": [
    "will delete them below"
   ]
  },
  {
   "cell_type": "markdown",
   "metadata": {},
   "source": [
    "### Check formulas runtime statistics across all engines"
   ]
  },
  {
   "cell_type": "code",
   "execution_count": 10,
   "metadata": {},
   "outputs": [
    {
     "data": {
      "text/html": [
       "<div>\n",
       "<style>\n",
       "    .dataframe thead tr:only-child th {\n",
       "        text-align: right;\n",
       "    }\n",
       "\n",
       "    .dataframe thead th {\n",
       "        text-align: left;\n",
       "    }\n",
       "\n",
       "    .dataframe tbody tr th {\n",
       "        vertical-align: top;\n",
       "    }\n",
       "</style>\n",
       "<table border=\"1\" class=\"dataframe\">\n",
       "  <thead>\n",
       "    <tr style=\"text-align: right;\">\n",
       "      <th></th>\n",
       "      <th>mean</th>\n",
       "      <th>median</th>\n",
       "      <th>std</th>\n",
       "    </tr>\n",
       "    <tr>\n",
       "      <th>formula</th>\n",
       "      <th></th>\n",
       "      <th></th>\n",
       "      <th></th>\n",
       "    </tr>\n",
       "  </thead>\n",
       "  <tbody>\n",
       "    <tr>\n",
       "      <th>mrpp_4x4#4_5.cnf</th>\n",
       "      <td>0.015046</td>\n",
       "      <td>0.010998</td>\n",
       "      <td>0.019999</td>\n",
       "    </tr>\n",
       "    <tr>\n",
       "      <th>C168_FW_UT_518.cnf</th>\n",
       "      <td>0.016331</td>\n",
       "      <td>0.014997</td>\n",
       "      <td>0.020836</td>\n",
       "    </tr>\n",
       "    <tr>\n",
       "      <th>manthey_single-ordered-initialized-w12-b6.cnf</th>\n",
       "      <td>0.018950</td>\n",
       "      <td>0.013997</td>\n",
       "      <td>0.027491</td>\n",
       "    </tr>\n",
       "    <tr>\n",
       "      <th>manthey_single-ordered-initialized-w14-b7.cnf</th>\n",
       "      <td>0.027568</td>\n",
       "      <td>0.026995</td>\n",
       "      <td>0.026170</td>\n",
       "    </tr>\n",
       "    <tr>\n",
       "      <th>e2a_2.c.smt2-cvc4.cnf</th>\n",
       "      <td>0.110799</td>\n",
       "      <td>0.092985</td>\n",
       "      <td>0.139002</td>\n",
       "    </tr>\n",
       "    <tr>\n",
       "      <th>manthey_single-ordered-initialized-w20-b10.cnf</th>\n",
       "      <td>0.129845</td>\n",
       "      <td>0.085986</td>\n",
       "      <td>0.143185</td>\n",
       "    </tr>\n",
       "    <tr>\n",
       "      <th>e2_2.c.smt2-cvc4.cnf</th>\n",
       "      <td>0.142892</td>\n",
       "      <td>0.091986</td>\n",
       "      <td>0.171836</td>\n",
       "    </tr>\n",
       "    <tr>\n",
       "      <th>mrpp_4x4#8_8.cnf</th>\n",
       "      <td>0.157313</td>\n",
       "      <td>0.157975</td>\n",
       "      <td>0.077611</td>\n",
       "    </tr>\n",
       "    <tr>\n",
       "      <th>mrpp_6x6#10_8.cnf</th>\n",
       "      <td>0.291397</td>\n",
       "      <td>0.223965</td>\n",
       "      <td>0.211190</td>\n",
       "    </tr>\n",
       "    <tr>\n",
       "      <th>mrpp_4x4#6_16.cnf</th>\n",
       "      <td>0.355966</td>\n",
       "      <td>0.247962</td>\n",
       "      <td>0.375269</td>\n",
       "    </tr>\n",
       "    <tr>\n",
       "      <th>mrpp_4x4#6_20.cnf</th>\n",
       "      <td>0.666368</td>\n",
       "      <td>0.360945</td>\n",
       "      <td>0.790166</td>\n",
       "    </tr>\n",
       "    <tr>\n",
       "      <th>mrpp_6x6#10_10.cnf</th>\n",
       "      <td>0.930663</td>\n",
       "      <td>0.693894</td>\n",
       "      <td>0.788205</td>\n",
       "    </tr>\n",
       "    <tr>\n",
       "      <th>e2_1.c.smt2-stp212.cnf</th>\n",
       "      <td>1.413946</td>\n",
       "      <td>0.415936</td>\n",
       "      <td>4.515372</td>\n",
       "    </tr>\n",
       "    <tr>\n",
       "      <th>mrpp_4x4#10_9.cnf</th>\n",
       "      <td>2.130263</td>\n",
       "      <td>1.300000</td>\n",
       "      <td>2.029142</td>\n",
       "    </tr>\n",
       "    <tr>\n",
       "      <th>manthey_DimacsSorter_28_0.cnf</th>\n",
       "      <td>19.261290</td>\n",
       "      <td>22.400600</td>\n",
       "      <td>12.314075</td>\n",
       "    </tr>\n",
       "    <tr>\n",
       "      <th>38bits_10.dimacs.cnf</th>\n",
       "      <td>22.379767</td>\n",
       "      <td>21.060800</td>\n",
       "      <td>10.269913</td>\n",
       "    </tr>\n",
       "    <tr>\n",
       "      <th>40bits_10.dimacs.cnf</th>\n",
       "      <td>29.742177</td>\n",
       "      <td>28.229700</td>\n",
       "      <td>19.322874</td>\n",
       "    </tr>\n",
       "    <tr>\n",
       "      <th>manthey_DimacsSorterHalf_30_3.cnf</th>\n",
       "      <td>39.715976</td>\n",
       "      <td>39.367000</td>\n",
       "      <td>18.772585</td>\n",
       "    </tr>\n",
       "    <tr>\n",
       "      <th>mp1-qpr-bmp280-driver-5.cnf</th>\n",
       "      <td>40.941169</td>\n",
       "      <td>3.047540</td>\n",
       "      <td>105.728096</td>\n",
       "    </tr>\n",
       "    <tr>\n",
       "      <th>modgen-n200-m90860q08c40-25297.cnf</th>\n",
       "      <td>48.600176</td>\n",
       "      <td>46.229000</td>\n",
       "      <td>24.118725</td>\n",
       "    </tr>\n",
       "    <tr>\n",
       "      <th>manthey_DimacsSorter_28_7.cnf</th>\n",
       "      <td>58.994804</td>\n",
       "      <td>62.025600</td>\n",
       "      <td>29.932989</td>\n",
       "    </tr>\n",
       "    <tr>\n",
       "      <th>modgen-n200-m90860q08c40-15606.cnf</th>\n",
       "      <td>59.514405</td>\n",
       "      <td>40.052900</td>\n",
       "      <td>49.777996</td>\n",
       "    </tr>\n",
       "    <tr>\n",
       "      <th>manthey_DimacsSorter_30_1.cnf</th>\n",
       "      <td>69.146095</td>\n",
       "      <td>62.906400</td>\n",
       "      <td>33.844492</td>\n",
       "    </tr>\n",
       "    <tr>\n",
       "      <th>mp1-9_3.cnf</th>\n",
       "      <td>70.381848</td>\n",
       "      <td>37.500000</td>\n",
       "      <td>75.058644</td>\n",
       "    </tr>\n",
       "    <tr>\n",
       "      <th>mrpp_8x8#22_11.cnf</th>\n",
       "      <td>70.779290</td>\n",
       "      <td>49.881400</td>\n",
       "      <td>53.575175</td>\n",
       "    </tr>\n",
       "    <tr>\n",
       "      <th>manthey_DimacsSorter_28_3.cnf</th>\n",
       "      <td>71.939633</td>\n",
       "      <td>62.780500</td>\n",
       "      <td>47.002341</td>\n",
       "    </tr>\n",
       "    <tr>\n",
       "      <th>mp1-9_11.cnf</th>\n",
       "      <td>79.122193</td>\n",
       "      <td>30.144400</td>\n",
       "      <td>105.190943</td>\n",
       "    </tr>\n",
       "    <tr>\n",
       "      <th>manthey_DimacsSorterHalf_30_0.cnf</th>\n",
       "      <td>80.670757</td>\n",
       "      <td>65.414100</td>\n",
       "      <td>46.547480</td>\n",
       "    </tr>\n",
       "    <tr>\n",
       "      <th>manthey_single-ordered-initialized-w48-b8.cnf</th>\n",
       "      <td>86.027848</td>\n",
       "      <td>50.747300</td>\n",
       "      <td>84.616328</td>\n",
       "    </tr>\n",
       "    <tr>\n",
       "      <th>manthey_DimacsSorterHalf_30_7.cnf</th>\n",
       "      <td>96.343595</td>\n",
       "      <td>83.024400</td>\n",
       "      <td>45.888079</td>\n",
       "    </tr>\n",
       "    <tr>\n",
       "      <th>...</th>\n",
       "      <td>...</td>\n",
       "      <td>...</td>\n",
       "      <td>...</td>\n",
       "    </tr>\n",
       "    <tr>\n",
       "      <th>manthey_DimacsSorter_30_6.cnf</th>\n",
       "      <td>130.574390</td>\n",
       "      <td>124.832000</td>\n",
       "      <td>70.913846</td>\n",
       "    </tr>\n",
       "    <tr>\n",
       "      <th>42bits_12.dimacs.cnf</th>\n",
       "      <td>132.457090</td>\n",
       "      <td>119.059000</td>\n",
       "      <td>69.026726</td>\n",
       "    </tr>\n",
       "    <tr>\n",
       "      <th>manthey_single-ordered-initialized-w54-b9.cnf</th>\n",
       "      <td>150.109629</td>\n",
       "      <td>135.879000</td>\n",
       "      <td>116.542755</td>\n",
       "    </tr>\n",
       "    <tr>\n",
       "      <th>manthey_DimacsSorterHalf_28_4.cnf</th>\n",
       "      <td>217.127905</td>\n",
       "      <td>182.482000</td>\n",
       "      <td>119.074716</td>\n",
       "    </tr>\n",
       "    <tr>\n",
       "      <th>manthey_DimacsSorter_28_4.cnf</th>\n",
       "      <td>223.463805</td>\n",
       "      <td>184.821000</td>\n",
       "      <td>134.822104</td>\n",
       "    </tr>\n",
       "    <tr>\n",
       "      <th>mp1-9_27.cnf</th>\n",
       "      <td>258.990043</td>\n",
       "      <td>191.189000</td>\n",
       "      <td>225.399778</td>\n",
       "    </tr>\n",
       "    <tr>\n",
       "      <th>mp1-klieber2017s-0500-022-t12.cnf</th>\n",
       "      <td>276.408448</td>\n",
       "      <td>127.980000</td>\n",
       "      <td>337.854136</td>\n",
       "    </tr>\n",
       "    <tr>\n",
       "      <th>mp1-klieber2017s-0490-022-t12.cnf</th>\n",
       "      <td>366.182205</td>\n",
       "      <td>209.066000</td>\n",
       "      <td>329.763626</td>\n",
       "    </tr>\n",
       "    <tr>\n",
       "      <th>mp1-9_38.cnf</th>\n",
       "      <td>404.084100</td>\n",
       "      <td>99.717800</td>\n",
       "      <td>634.005856</td>\n",
       "    </tr>\n",
       "    <tr>\n",
       "      <th>44bits_11.dimacs.cnf</th>\n",
       "      <td>502.761857</td>\n",
       "      <td>351.843000</td>\n",
       "      <td>461.549937</td>\n",
       "    </tr>\n",
       "    <tr>\n",
       "      <th>46bits_12.dimacs.cnf</th>\n",
       "      <td>510.060381</td>\n",
       "      <td>449.853000</td>\n",
       "      <td>240.267467</td>\n",
       "    </tr>\n",
       "    <tr>\n",
       "      <th>gss-18-s100.cnf</th>\n",
       "      <td>551.239451</td>\n",
       "      <td>532.625000</td>\n",
       "      <td>358.031024</td>\n",
       "    </tr>\n",
       "    <tr>\n",
       "      <th>vmpc_29.cnf</th>\n",
       "      <td>558.079186</td>\n",
       "      <td>315.502000</td>\n",
       "      <td>752.228640</td>\n",
       "    </tr>\n",
       "    <tr>\n",
       "      <th>manthey_DimacsSorter_35_7.cnf</th>\n",
       "      <td>616.533810</td>\n",
       "      <td>568.862000</td>\n",
       "      <td>408.143699</td>\n",
       "    </tr>\n",
       "    <tr>\n",
       "      <th>mp1-klieber2017s-0500-023-t12.cnf</th>\n",
       "      <td>616.614338</td>\n",
       "      <td>455.527000</td>\n",
       "      <td>608.412865</td>\n",
       "    </tr>\n",
       "    <tr>\n",
       "      <th>mp1-klieber2017s-0490-023-t12.cnf</th>\n",
       "      <td>853.044886</td>\n",
       "      <td>557.794000</td>\n",
       "      <td>773.543876</td>\n",
       "    </tr>\n",
       "    <tr>\n",
       "      <th>46bits_14.dimacs.cnf</th>\n",
       "      <td>968.078210</td>\n",
       "      <td>578.598000</td>\n",
       "      <td>1340.694329</td>\n",
       "    </tr>\n",
       "    <tr>\n",
       "      <th>mp1-9_1.cnf</th>\n",
       "      <td>977.605167</td>\n",
       "      <td>914.977000</td>\n",
       "      <td>964.012687</td>\n",
       "    </tr>\n",
       "    <tr>\n",
       "      <th>46bits_11.dimacs.cnf</th>\n",
       "      <td>1150.988014</td>\n",
       "      <td>662.080000</td>\n",
       "      <td>1349.481087</td>\n",
       "    </tr>\n",
       "    <tr>\n",
       "      <th>manthey_DimacsSorter_35_1.cnf</th>\n",
       "      <td>1234.022667</td>\n",
       "      <td>897.236000</td>\n",
       "      <td>1077.329827</td>\n",
       "    </tr>\n",
       "    <tr>\n",
       "      <th>mp1-klieber2017s-0500-024-t12.cnf</th>\n",
       "      <td>1264.177000</td>\n",
       "      <td>784.209000</td>\n",
       "      <td>1222.552242</td>\n",
       "    </tr>\n",
       "    <tr>\n",
       "      <th>mp1-9_29.cnf</th>\n",
       "      <td>1283.063881</td>\n",
       "      <td>1078.510000</td>\n",
       "      <td>1317.344042</td>\n",
       "    </tr>\n",
       "    <tr>\n",
       "      <th>mp1-klieber2017s-0490-024-t12.cnf</th>\n",
       "      <td>1560.008748</td>\n",
       "      <td>745.259000</td>\n",
       "      <td>1516.748450</td>\n",
       "    </tr>\n",
       "    <tr>\n",
       "      <th>48bits_14.dimacs.cnf</th>\n",
       "      <td>1698.666524</td>\n",
       "      <td>1452.000000</td>\n",
       "      <td>1662.488605</td>\n",
       "    </tr>\n",
       "    <tr>\n",
       "      <th>manthey_DimacsSorterHalf_32_1.cnf</th>\n",
       "      <td>1867.699852</td>\n",
       "      <td>276.400000</td>\n",
       "      <td>5056.073676</td>\n",
       "    </tr>\n",
       "    <tr>\n",
       "      <th>manthey_DimacsSorter_32_1.cnf</th>\n",
       "      <td>1953.920205</td>\n",
       "      <td>257.000000</td>\n",
       "      <td>5181.228511</td>\n",
       "    </tr>\n",
       "    <tr>\n",
       "      <th>vmpc_33.cnf</th>\n",
       "      <td>2087.511471</td>\n",
       "      <td>966.153000</td>\n",
       "      <td>3734.012787</td>\n",
       "    </tr>\n",
       "    <tr>\n",
       "      <th>gss-20-s100.cnf</th>\n",
       "      <td>2922.011857</td>\n",
       "      <td>1380.240000</td>\n",
       "      <td>3268.099980</td>\n",
       "    </tr>\n",
       "    <tr>\n",
       "      <th>aes_32_3_keyfind_1.cnf</th>\n",
       "      <td>6796.592819</td>\n",
       "      <td>2000.050000</td>\n",
       "      <td>11727.218960</td>\n",
       "    </tr>\n",
       "    <tr>\n",
       "      <th>aes_32_3_keyfind_2.cnf</th>\n",
       "      <td>12135.998429</td>\n",
       "      <td>2486.220000</td>\n",
       "      <td>19675.299486</td>\n",
       "    </tr>\n",
       "  </tbody>\n",
       "</table>\n",
       "<p>62 rows × 3 columns</p>\n",
       "</div>"
      ],
      "text/plain": [
       "                                                        mean       median  \\\n",
       "formula                                                                     \n",
       "mrpp_4x4#4_5.cnf                                    0.015046     0.010998   \n",
       "C168_FW_UT_518.cnf                                  0.016331     0.014997   \n",
       "manthey_single-ordered-initialized-w12-b6.cnf       0.018950     0.013997   \n",
       "manthey_single-ordered-initialized-w14-b7.cnf       0.027568     0.026995   \n",
       "e2a_2.c.smt2-cvc4.cnf                               0.110799     0.092985   \n",
       "manthey_single-ordered-initialized-w20-b10.cnf      0.129845     0.085986   \n",
       "e2_2.c.smt2-cvc4.cnf                                0.142892     0.091986   \n",
       "mrpp_4x4#8_8.cnf                                    0.157313     0.157975   \n",
       "mrpp_6x6#10_8.cnf                                   0.291397     0.223965   \n",
       "mrpp_4x4#6_16.cnf                                   0.355966     0.247962   \n",
       "mrpp_4x4#6_20.cnf                                   0.666368     0.360945   \n",
       "mrpp_6x6#10_10.cnf                                  0.930663     0.693894   \n",
       "e2_1.c.smt2-stp212.cnf                              1.413946     0.415936   \n",
       "mrpp_4x4#10_9.cnf                                   2.130263     1.300000   \n",
       "manthey_DimacsSorter_28_0.cnf                      19.261290    22.400600   \n",
       "38bits_10.dimacs.cnf                               22.379767    21.060800   \n",
       "40bits_10.dimacs.cnf                               29.742177    28.229700   \n",
       "manthey_DimacsSorterHalf_30_3.cnf                  39.715976    39.367000   \n",
       "mp1-qpr-bmp280-driver-5.cnf                        40.941169     3.047540   \n",
       "modgen-n200-m90860q08c40-25297.cnf                 48.600176    46.229000   \n",
       "manthey_DimacsSorter_28_7.cnf                      58.994804    62.025600   \n",
       "modgen-n200-m90860q08c40-15606.cnf                 59.514405    40.052900   \n",
       "manthey_DimacsSorter_30_1.cnf                      69.146095    62.906400   \n",
       "mp1-9_3.cnf                                        70.381848    37.500000   \n",
       "mrpp_8x8#22_11.cnf                                 70.779290    49.881400   \n",
       "manthey_DimacsSorter_28_3.cnf                      71.939633    62.780500   \n",
       "mp1-9_11.cnf                                       79.122193    30.144400   \n",
       "manthey_DimacsSorterHalf_30_0.cnf                  80.670757    65.414100   \n",
       "manthey_single-ordered-initialized-w48-b8.cnf      86.027848    50.747300   \n",
       "manthey_DimacsSorterHalf_30_7.cnf                  96.343595    83.024400   \n",
       "...                                                      ...          ...   \n",
       "manthey_DimacsSorter_30_6.cnf                     130.574390   124.832000   \n",
       "42bits_12.dimacs.cnf                              132.457090   119.059000   \n",
       "manthey_single-ordered-initialized-w54-b9.cnf     150.109629   135.879000   \n",
       "manthey_DimacsSorterHalf_28_4.cnf                 217.127905   182.482000   \n",
       "manthey_DimacsSorter_28_4.cnf                     223.463805   184.821000   \n",
       "mp1-9_27.cnf                                      258.990043   191.189000   \n",
       "mp1-klieber2017s-0500-022-t12.cnf                 276.408448   127.980000   \n",
       "mp1-klieber2017s-0490-022-t12.cnf                 366.182205   209.066000   \n",
       "mp1-9_38.cnf                                      404.084100    99.717800   \n",
       "44bits_11.dimacs.cnf                              502.761857   351.843000   \n",
       "46bits_12.dimacs.cnf                              510.060381   449.853000   \n",
       "gss-18-s100.cnf                                   551.239451   532.625000   \n",
       "vmpc_29.cnf                                       558.079186   315.502000   \n",
       "manthey_DimacsSorter_35_7.cnf                     616.533810   568.862000   \n",
       "mp1-klieber2017s-0500-023-t12.cnf                 616.614338   455.527000   \n",
       "mp1-klieber2017s-0490-023-t12.cnf                 853.044886   557.794000   \n",
       "46bits_14.dimacs.cnf                              968.078210   578.598000   \n",
       "mp1-9_1.cnf                                       977.605167   914.977000   \n",
       "46bits_11.dimacs.cnf                             1150.988014   662.080000   \n",
       "manthey_DimacsSorter_35_1.cnf                    1234.022667   897.236000   \n",
       "mp1-klieber2017s-0500-024-t12.cnf                1264.177000   784.209000   \n",
       "mp1-9_29.cnf                                     1283.063881  1078.510000   \n",
       "mp1-klieber2017s-0490-024-t12.cnf                1560.008748   745.259000   \n",
       "48bits_14.dimacs.cnf                             1698.666524  1452.000000   \n",
       "manthey_DimacsSorterHalf_32_1.cnf                1867.699852   276.400000   \n",
       "manthey_DimacsSorter_32_1.cnf                    1953.920205   257.000000   \n",
       "vmpc_33.cnf                                      2087.511471   966.153000   \n",
       "gss-20-s100.cnf                                  2922.011857  1380.240000   \n",
       "aes_32_3_keyfind_1.cnf                           6796.592819  2000.050000   \n",
       "aes_32_3_keyfind_2.cnf                          12135.998429  2486.220000   \n",
       "\n",
       "                                                         std  \n",
       "formula                                                       \n",
       "mrpp_4x4#4_5.cnf                                    0.019999  \n",
       "C168_FW_UT_518.cnf                                  0.020836  \n",
       "manthey_single-ordered-initialized-w12-b6.cnf       0.027491  \n",
       "manthey_single-ordered-initialized-w14-b7.cnf       0.026170  \n",
       "e2a_2.c.smt2-cvc4.cnf                               0.139002  \n",
       "manthey_single-ordered-initialized-w20-b10.cnf      0.143185  \n",
       "e2_2.c.smt2-cvc4.cnf                                0.171836  \n",
       "mrpp_4x4#8_8.cnf                                    0.077611  \n",
       "mrpp_6x6#10_8.cnf                                   0.211190  \n",
       "mrpp_4x4#6_16.cnf                                   0.375269  \n",
       "mrpp_4x4#6_20.cnf                                   0.790166  \n",
       "mrpp_6x6#10_10.cnf                                  0.788205  \n",
       "e2_1.c.smt2-stp212.cnf                              4.515372  \n",
       "mrpp_4x4#10_9.cnf                                   2.029142  \n",
       "manthey_DimacsSorter_28_0.cnf                      12.314075  \n",
       "38bits_10.dimacs.cnf                               10.269913  \n",
       "40bits_10.dimacs.cnf                               19.322874  \n",
       "manthey_DimacsSorterHalf_30_3.cnf                  18.772585  \n",
       "mp1-qpr-bmp280-driver-5.cnf                       105.728096  \n",
       "modgen-n200-m90860q08c40-25297.cnf                 24.118725  \n",
       "manthey_DimacsSorter_28_7.cnf                      29.932989  \n",
       "modgen-n200-m90860q08c40-15606.cnf                 49.777996  \n",
       "manthey_DimacsSorter_30_1.cnf                      33.844492  \n",
       "mp1-9_3.cnf                                        75.058644  \n",
       "mrpp_8x8#22_11.cnf                                 53.575175  \n",
       "manthey_DimacsSorter_28_3.cnf                      47.002341  \n",
       "mp1-9_11.cnf                                      105.190943  \n",
       "manthey_DimacsSorterHalf_30_0.cnf                  46.547480  \n",
       "manthey_single-ordered-initialized-w48-b8.cnf      84.616328  \n",
       "manthey_DimacsSorterHalf_30_7.cnf                  45.888079  \n",
       "...                                                      ...  \n",
       "manthey_DimacsSorter_30_6.cnf                      70.913846  \n",
       "42bits_12.dimacs.cnf                               69.026726  \n",
       "manthey_single-ordered-initialized-w54-b9.cnf     116.542755  \n",
       "manthey_DimacsSorterHalf_28_4.cnf                 119.074716  \n",
       "manthey_DimacsSorter_28_4.cnf                     134.822104  \n",
       "mp1-9_27.cnf                                      225.399778  \n",
       "mp1-klieber2017s-0500-022-t12.cnf                 337.854136  \n",
       "mp1-klieber2017s-0490-022-t12.cnf                 329.763626  \n",
       "mp1-9_38.cnf                                      634.005856  \n",
       "44bits_11.dimacs.cnf                              461.549937  \n",
       "46bits_12.dimacs.cnf                              240.267467  \n",
       "gss-18-s100.cnf                                   358.031024  \n",
       "vmpc_29.cnf                                       752.228640  \n",
       "manthey_DimacsSorter_35_7.cnf                     408.143699  \n",
       "mp1-klieber2017s-0500-023-t12.cnf                 608.412865  \n",
       "mp1-klieber2017s-0490-023-t12.cnf                 773.543876  \n",
       "46bits_14.dimacs.cnf                             1340.694329  \n",
       "mp1-9_1.cnf                                       964.012687  \n",
       "46bits_11.dimacs.cnf                             1349.481087  \n",
       "manthey_DimacsSorter_35_1.cnf                    1077.329827  \n",
       "mp1-klieber2017s-0500-024-t12.cnf                1222.552242  \n",
       "mp1-9_29.cnf                                     1317.344042  \n",
       "mp1-klieber2017s-0490-024-t12.cnf                1516.748450  \n",
       "48bits_14.dimacs.cnf                             1662.488605  \n",
       "manthey_DimacsSorterHalf_32_1.cnf                5056.073676  \n",
       "manthey_DimacsSorter_32_1.cnf                    5181.228511  \n",
       "vmpc_33.cnf                                      3734.012787  \n",
       "gss-20-s100.cnf                                  3268.099980  \n",
       "aes_32_3_keyfind_1.cnf                          11727.218960  \n",
       "aes_32_3_keyfind_2.cnf                          19675.299486  \n",
       "\n",
       "[62 rows x 3 columns]"
      ]
     },
     "execution_count": 10,
     "metadata": {},
     "output_type": "execute_result"
    }
   ],
   "source": [
    "means = df.groupby('formula')['runtime'].mean()\n",
    "medians = df.groupby('formula')['runtime'].median()\n",
    "stds = df.groupby('formula')['runtime'].std()\n",
    "series_list = [means, medians, stds]\n",
    "statsdf = pd.concat(series_list, axis=1)\n",
    "statsdf.columns=['mean', 'median', 'std']\n",
    "statsdf.sort_values('mean')"
   ]
  },
  {
   "cell_type": "markdown",
   "metadata": {},
   "source": [
    "### Remove formulas with runtime mean and std < 1 second (and terminated formulas too)"
   ]
  },
  {
   "cell_type": "code",
   "execution_count": 13,
   "metadata": {},
   "outputs": [
    {
     "name": "stdout",
     "output_type": "stream",
     "text": [
      "('formulas_to_remove', 14)\n",
      "('expected #rows', 294)\n",
      "294\n",
      "('before ', (1302, 15))\n",
      "('after ', (1008, 15))\n"
     ]
    }
   ],
   "source": [
    "formulas_to_remove = list(statsdf[(statsdf['mean'] < 1) & (statsdf['std'] < 1)].index)\n",
    "formulas_to_remove += list(terminated_formulas)\n",
    "print('formulas_to_remove', len(formulas_to_remove))\n",
    "print('expected #rows', len(formulas_to_remove)*21)\n",
    "indices = list()\n",
    "for index, row in df.iterrows():\n",
    "    if row['formula'] in formulas_to_remove:\n",
    "        indices.append(index)\n",
    "print(len(indices))\n",
    "print('before ', df.shape)\n",
    "df.drop(indices, inplace=True)\n",
    "print('after ', df.shape)"
   ]
  },
  {
   "cell_type": "code",
   "execution_count": 14,
   "metadata": {},
   "outputs": [
    {
     "name": "stdout",
     "output_type": "stream",
     "text": [
      "(1008, 15)\n",
      "num formulas\n",
      "48.0\n"
     ]
    }
   ],
   "source": [
    "sanity_check(df)"
   ]
  },
  {
   "cell_type": "markdown",
   "metadata": {},
   "source": [
    "## Add solution density"
   ]
  },
  {
   "cell_type": "code",
   "execution_count": 15,
   "metadata": {
    "collapsed": true
   },
   "outputs": [],
   "source": [
    "df['solution_density'] = df.apply(lambda x: (math.log(x['num_sols'], 2) / x['variables']), axis=1)"
   ]
  },
  {
   "cell_type": "markdown",
   "metadata": {},
   "source": [
    "## Number of unique formulas"
   ]
  },
  {
   "cell_type": "code",
   "execution_count": 16,
   "metadata": {},
   "outputs": [
    {
     "name": "stdout",
     "output_type": "stream",
     "text": [
      "48\n"
     ]
    }
   ],
   "source": [
    "formulas_set = set()\n",
    "for index, row in df.iterrows():\n",
    "    formulas_set.add(row['formula'])\n",
    "\n",
    "print(len(formulas_set))"
   ]
  },
  {
   "cell_type": "markdown",
   "metadata": {},
   "source": [
    "# Helpers for experiments"
   ]
  },
  {
   "cell_type": "code",
   "execution_count": 17,
   "metadata": {
    "collapsed": true
   },
   "outputs": [],
   "source": [
    "def create_secondary_dataframe(df, exp, formulas_set, a_val, b_val):\n",
    "    \"\"\"\n",
    "        Creates a secondary data frame for checking runtime diffs\n",
    "        columns = ['formula', 'entropy', 'solution_density', 'backbone', 'diff']\n",
    "        a_val and b_val are the actual solvers\n",
    "        diff is a_runtime - b_runtime\n",
    "    \"\"\"\n",
    "    # get experiment\n",
    "    exp_df = df[df['experiment'] == exp]\n",
    "    # create df\n",
    "    columns = ['formula', 'entropy', 'solution_density', 'backbone', 'diff']\n",
    "    out_df = pd.DataFrame(columns=columns)\n",
    "\n",
    "    for index, f in enumerate(formulas_set):\n",
    "        # get formula,solver row\n",
    "        df_a = exp_df[(df['formula'] == f) & (df['solver'] == a_val)]\n",
    "        df_b = exp_df[(df['formula'] == f) & (df['solver'] == b_val)]\n",
    "        # should have 1 rows after manipulation\n",
    "        assert(df_a.shape[0] == 1)\n",
    "        assert(df_b.shape[0] == 1)\n",
    "\n",
    "        out_df.loc[index] = [f, \n",
    "                              df_a.iloc[0]['entropy'], \n",
    "                              #math.log(df_a.iloc[0]['num_sols'], 2) / df_a.iloc[0]['variables'],\n",
    "                              df_a.iloc[0]['solution_density'],\n",
    "                              df_a.iloc[0]['backbone'], \n",
    "                              df_a.iloc[0]['runtime'] - df_b.iloc[0]['runtime']\n",
    "                             ]\n",
    "    return out_df"
   ]
  },
  {
   "cell_type": "code",
   "execution_count": 18,
   "metadata": {
    "collapsed": true
   },
   "outputs": [],
   "source": [
    "def plotter(df, exp, formulas_set, a_val, b_val, x_property, x_lim=None, y_lim=None, opts='regression'):\n",
    "    \"\"\"\n",
    "        Plot diff (a_val - b_val) with x as x_property (could be entropy, num_sols, backbone)\n",
    "    \"\"\"\n",
    "    exp_df = create_secondary_dataframe(df, exp, formulas_set, a_val, b_val)\n",
    "    x = exp_df[x_property]\n",
    "    y = exp_df['diff']\n",
    "    # scatter\n",
    "    plt.plot(x , y, 'ro')\n",
    "    # regression line\n",
    "    if opts == 'regression':\n",
    "        m, b = np.polyfit(x, y, 1)\n",
    "        plt.plot(x, m*x + b, '-')\n",
    "    # add lines: distance for x=0\n",
    "    elif opts == 'lines':\n",
    "        for index, values in y:\n",
    "            pass # TODO\n",
    "    if x_lim:\n",
    "        plt.xlim(x_lim)\n",
    "    if y_lim:\n",
    "        plt.ylim(y_lim)\n",
    "    plt.xlabel(str(x_property))\n",
    "    plt.ylabel('Runtime (seconds)')\n",
    "    title = 'Delta runtime: ' + str(a_val) + '-' + str(b_val)\n",
    "    plt.title(title)\n",
    "    plt.show()"
   ]
  },
  {
   "cell_type": "code",
   "execution_count": 19,
   "metadata": {
    "collapsed": true
   },
   "outputs": [],
   "source": [
    "def entropy_sols_plotter(df, exp, formulas_set, a_val, b_val):\n",
    "    plotter(df, exp, formulas_set, a_val, b_val, 'entropy', x_lim=(0,df['entropy'].max()))\n",
    "    plotter(df, exp, formulas_set, a_val, b_val, 'solution_density', x_lim=(0,df['solution_density'].max()))"
   ]
  },
  {
   "cell_type": "markdown",
   "metadata": {},
   "source": [
    "# Exp1 - Database reduction: (With - Without)"
   ]
  },
  {
   "cell_type": "markdown",
   "metadata": {},
   "source": [
    "## Plots"
   ]
  },
  {
   "cell_type": "code",
   "execution_count": 20,
   "metadata": {},
   "outputs": [
    {
     "name": "stderr",
     "output_type": "stream",
     "text": [
      "/home/deebee/anaconda2/lib/python2.7/site-packages/ipykernel/__main__.py:16: UserWarning: Boolean Series key will be reindexed to match DataFrame index.\n",
      "/home/deebee/anaconda2/lib/python2.7/site-packages/ipykernel/__main__.py:17: UserWarning: Boolean Series key will be reindexed to match DataFrame index.\n"
     ]
    },
    {
     "data": {
      "image/png": "[encoded data removed]",
      "text/plain": [
       "<matplotlib.figure.Figure at 0x7f490ac68510>"
      ]
     },
     "metadata": {},
     "output_type": "display_data"
    },
    {
     "data": {
      "image/png": "[encoded data removed]",
      "text/plain": [
       "<matplotlib.figure.Figure at 0x7f4908691850>"
      ]
     },
     "metadata": {},
     "output_type": "display_data"
    }
   ],
   "source": [
    "entropy_sols_plotter(df, 'exp1', formulas_set, 'glucose-NR', 'glucose')"
   ]
  },
  {
   "cell_type": "markdown",
   "metadata": {},
   "source": [
    "There's high variation with low entropy (and low density), and it stabilizes as entropy increases."
   ]
  },
  {
   "cell_type": "markdown",
   "metadata": {},
   "source": [
    "# Exp2: Controlling lbd-cut (LBD1 - LBD5)"
   ]
  },
  {
   "cell_type": "code",
   "execution_count": 21,
   "metadata": {},
   "outputs": [
    {
     "name": "stderr",
     "output_type": "stream",
     "text": [
      "/home/deebee/anaconda2/lib/python2.7/site-packages/ipykernel/__main__.py:16: UserWarning: Boolean Series key will be reindexed to match DataFrame index.\n",
      "/home/deebee/anaconda2/lib/python2.7/site-packages/ipykernel/__main__.py:17: UserWarning: Boolean Series key will be reindexed to match DataFrame index.\n"
     ]
    },
    {
     "data": {
      "image/png": "[encoded data removed]",
      "text/plain": [
       "<matplotlib.figure.Figure at 0x7f490ac5b0d0>"
      ]
     },
     "metadata": {},
     "output_type": "display_data"
    },
    {
     "data": {
      "image/png": "[encoded data removed]",
      "text/plain": [
       "<matplotlib.figure.Figure at 0x7f49085e1ad0>"
      ]
     },
     "metadata": {},
     "output_type": "display_data"
    }
   ],
   "source": [
    "entropy_sols_plotter(df, 'exp2', formulas_set, 'COMiniSatPS-1', 'COMiniSatPS-5')"
   ]
  },
  {
   "cell_type": "markdown",
   "metadata": {},
   "source": [
    "Entropy trend same as our paper, about solution density we can tell there's high variation in low density formulas."
   ]
  },
  {
   "cell_type": "markdown",
   "metadata": {},
   "source": [
    "## LBD0 - LBD5"
   ]
  },
  {
   "cell_type": "code",
   "execution_count": 22,
   "metadata": {},
   "outputs": [
    {
     "name": "stderr",
     "output_type": "stream",
     "text": [
      "/home/deebee/anaconda2/lib/python2.7/site-packages/ipykernel/__main__.py:16: UserWarning: Boolean Series key will be reindexed to match DataFrame index.\n",
      "/home/deebee/anaconda2/lib/python2.7/site-packages/ipykernel/__main__.py:17: UserWarning: Boolean Series key will be reindexed to match DataFrame index.\n"
     ]
    },
    {
     "data": {
      "image/png": "[encoded data removed]",
      "text/plain": [
       "<matplotlib.figure.Figure at 0x7f4908522710>"
      ]
     },
     "metadata": {},
     "output_type": "display_data"
    },
    {
     "data": {
      "image/png": "[encoded data removed]",
      "text/plain": [
       "<matplotlib.figure.Figure at 0x7f4908389750>"
      ]
     },
     "metadata": {},
     "output_type": "display_data"
    }
   ],
   "source": [
    "entropy_sols_plotter(df, 'exp2', formulas_set, 'COMiniSatPS-0', 'COMiniSatPS-5')"
   ]
  },
  {
   "cell_type": "markdown",
   "metadata": {},
   "source": [
    "Same as before (but density trend is different)"
   ]
  },
  {
   "cell_type": "markdown",
   "metadata": {},
   "source": [
    "# Exp3 - Saving criterion - Clause-size - Lbd"
   ]
  },
  {
   "cell_type": "code",
   "execution_count": 23,
   "metadata": {},
   "outputs": [
    {
     "name": "stderr",
     "output_type": "stream",
     "text": [
      "/home/deebee/anaconda2/lib/python2.7/site-packages/ipykernel/__main__.py:16: UserWarning: Boolean Series key will be reindexed to match DataFrame index.\n",
      "/home/deebee/anaconda2/lib/python2.7/site-packages/ipykernel/__main__.py:17: UserWarning: Boolean Series key will be reindexed to match DataFrame index.\n"
     ]
    },
    {
     "data": {
      "image/png": "[encoded data removed]",
      "text/plain": [
       "<matplotlib.figure.Figure at 0x7f4908389810>"
      ]
     },
     "metadata": {},
     "output_type": "display_data"
    },
    {
     "data": {
      "image/png": "[encoded data removed]",
      "text/plain": [
       "<matplotlib.figure.Figure at 0x7f490820a510>"
      ]
     },
     "metadata": {},
     "output_type": "display_data"
    }
   ],
   "source": [
    "entropy_sols_plotter(df, 'exp3', formulas_set, 'wrapperClause', 'wrapperLBD')"
   ]
  },
  {
   "cell_type": "markdown",
   "metadata": {},
   "source": [
    "The variation is more significant with low entropy and low density. Trends aren't like our paper (but maybe it's early to decide)"
   ]
  },
  {
   "cell_type": "markdown",
   "metadata": {},
   "source": [
    "# Exp4 - Restarts type (Luby - Glucose)"
   ]
  },
  {
   "cell_type": "code",
   "execution_count": 24,
   "metadata": {},
   "outputs": [
    {
     "name": "stderr",
     "output_type": "stream",
     "text": [
      "/home/deebee/anaconda2/lib/python2.7/site-packages/ipykernel/__main__.py:16: UserWarning: Boolean Series key will be reindexed to match DataFrame index.\n",
      "/home/deebee/anaconda2/lib/python2.7/site-packages/ipykernel/__main__.py:17: UserWarning: Boolean Series key will be reindexed to match DataFrame index.\n"
     ]
    },
    {
     "data": {
      "image/png": "[encoded data removed]",
      "text/plain": [
       "<matplotlib.figure.Figure at 0x7f490813fb10>"
      ]
     },
     "metadata": {},
     "output_type": "display_data"
    },
    {
     "data": {
      "image/png": "[encoded data removed]",
      "text/plain": [
       "<matplotlib.figure.Figure at 0x7f490830cf50>"
      ]
     },
     "metadata": {},
     "output_type": "display_data"
    }
   ],
   "source": [
    "entropy_sols_plotter(df, 'exp4', formulas_set, 'wrapper-luby', 'wrapper-glucose')"
   ]
  },
  {
   "cell_type": "markdown",
   "metadata": {},
   "source": [
    "Same trend as our paper"
   ]
  },
  {
   "cell_type": "markdown",
   "metadata": {},
   "source": [
    "# Exp5 - Variable decay factor (G0.6 - G0.95)"
   ]
  },
  {
   "cell_type": "code",
   "execution_count": 25,
   "metadata": {},
   "outputs": [
    {
     "name": "stderr",
     "output_type": "stream",
     "text": [
      "/home/deebee/anaconda2/lib/python2.7/site-packages/ipykernel/__main__.py:16: UserWarning: Boolean Series key will be reindexed to match DataFrame index.\n",
      "/home/deebee/anaconda2/lib/python2.7/site-packages/ipykernel/__main__.py:17: UserWarning: Boolean Series key will be reindexed to match DataFrame index.\n"
     ]
    },
    {
     "data": {
      "image/png": "[encoded data removed]",
      "text/plain": [
       "<matplotlib.figure.Figure at 0x7f49081f9590>"
      ]
     },
     "metadata": {},
     "output_type": "display_data"
    },
    {
     "data": {
      "image/png": "[encoded data removed]",
      "text/plain": [
       "<matplotlib.figure.Figure at 0x7f49081acb90>"
      ]
     },
     "metadata": {},
     "output_type": "display_data"
    }
   ],
   "source": [
    "entropy_sols_plotter(df, 'exp5', formulas_set, 'wrapper-60', 'wrapper-95')"
   ]
  },
  {
   "cell_type": "markdown",
   "metadata": {},
   "source": [
    "For low entropy there's high variation, for high entropy the diff is low.\n",
    "\n",
    "About density - same as our paper"
   ]
  },
  {
   "cell_type": "markdown",
   "metadata": {},
   "source": [
    "# Summary"
   ]
  },
  {
   "cell_type": "markdown",
   "metadata": {},
   "source": [
    "The trends aren't 100% same as our paper (but not that different), although we have more formulas to add (2016-2017) to our dataset\n",
    "\n",
    "I think we should emphasize the large variation between the engines for low entropy, and small variation for high entropy. \n",
    "\n",
    "Why should we care about it? The entropy/solution density could be a new measure for the hardness of SATISFIABLE formulas. If for example we work in the industry on some kind of formula, we could run the entropy (solution density) approximator once to tell us if the formula has high or low entropy (solution density). Another scenario: tell something about the competitions formulas (do they have small entropy on average?).\n",
    "\n",
    "TODO:\n",
    "* We should filter formulas with runtime < 15 seconds (?)\n",
    "\n"
   ]
  },
  {
   "cell_type": "markdown",
   "metadata": {},
   "source": [
    "## How large is the variation between all engines (for entropy/density < threshold)?"
   ]
  },
  {
   "cell_type": "markdown",
   "metadata": {},
   "source": [
    "Global variation (all entropies)"
   ]
  },
  {
   "cell_type": "code",
   "execution_count": 26,
   "metadata": {},
   "outputs": [
    {
     "name": "stdout",
     "output_type": "stream",
     "text": [
      "(0.119837395833333, 0.18574338385957628)\n"
     ]
    }
   ],
   "source": [
    "print(df['entropy'].mean(), df['entropy'].std())"
   ]
  },
  {
   "cell_type": "markdown",
   "metadata": {},
   "source": [
    "Low entropy"
   ]
  },
  {
   "cell_type": "code",
   "execution_count": 27,
   "metadata": {
    "collapsed": true
   },
   "outputs": [],
   "source": [
    "def threshold_mean_std(df, threshold, prop):\n",
    "    print 'low %s' % prop\n",
    "    print 'mean %lf, std %lf' % (df[df[prop] < threshold][prop].mean(),\n",
    "                                 df[df[prop] < threshold][prop].std())\n",
    "    print 'high %s' % prop\n",
    "    print 'mean %lf, std %lf' % (df[df[prop] >= threshold][prop].mean(),\n",
    "                                 df[df[prop] >= threshold][prop].std())"
   ]
  },
  {
   "cell_type": "code",
   "execution_count": 28,
   "metadata": {},
   "outputs": [
    {
     "name": "stdout",
     "output_type": "stream",
     "text": [
      "threshold: 0.100000\n",
      "low entropy\n",
      "mean 0.017936, std 0.031718\n",
      "high entropy\n",
      "mean 0.275370, std 0.213576\n",
      "\n",
      "threshold: 0.200000\n",
      "low entropy\n",
      "mean 0.048037, std 0.057289\n",
      "high entropy\n",
      "mean 0.478840, std 0.189637\n",
      "\n",
      "threshold: 0.300000\n",
      "low entropy\n",
      "mean 0.058147, std 0.072104\n",
      "high entropy\n",
      "mean 0.551673, std 0.162687\n",
      "\n",
      "threshold: 0.400000\n",
      "low entropy\n",
      "mean 0.070946, std 0.091686\n",
      "high entropy\n",
      "mean 0.657645, std 0.075923\n",
      "\n",
      "threshold: 0.500000\n",
      "low entropy\n",
      "mean 0.070946, std 0.091686\n",
      "high entropy\n",
      "mean 0.657645, std 0.075923\n",
      "\n",
      "threshold: 0.600000\n",
      "low entropy\n",
      "mean 0.093191, std 0.137620\n",
      "high entropy\n",
      "mean 0.732713, std 0.009631\n",
      "\n",
      "threshold: 0.700000\n",
      "low entropy\n",
      "mean 0.093191, std 0.137620\n",
      "high entropy\n",
      "mean 0.732713, std 0.009631\n",
      "\n",
      "threshold: 0.800000\n",
      "low entropy\n",
      "mean 0.119837, std 0.185743\n",
      "high entropy\n",
      "mean nan, std nan\n",
      "\n"
     ]
    }
   ],
   "source": [
    "for thres in [0.1, 0.2, 0.3, 0.4, 0.5, 0.6, 0.7, 0.8]:\n",
    "    print 'threshold: %lf' % thres\n",
    "    threshold_mean_std(df, thres, 'entropy')\n",
    "    print"
   ]
  },
  {
   "cell_type": "markdown",
   "metadata": {},
   "source": [
    "Notice how the standard deviation is increasing for low entropy and decreasing for high entropy, as we increase the threshold."
   ]
  },
  {
   "cell_type": "code",
   "execution_count": 29,
   "metadata": {},
   "outputs": [
    {
     "name": "stdout",
     "output_type": "stream",
     "text": [
      "threshold: 0.010000\n",
      "low solution_density\n",
      "mean 0.001403, std 0.002215\n",
      "high solution_density\n",
      "mean 0.058803, std 0.035539\n",
      "\n",
      "threshold: 0.050000\n",
      "low solution_density\n",
      "mean 0.002156, std 0.004409\n",
      "high solution_density\n",
      "mean 0.079221, std 0.024591\n",
      "\n",
      "threshold: 0.100000\n",
      "low solution_density\n",
      "mean 0.006393, std 0.017418\n",
      "high solution_density\n",
      "mean 0.111300, std 0.000000\n",
      "\n",
      "threshold: 0.150000\n",
      "low solution_density\n",
      "mean 0.008578, std 0.022843\n",
      "high solution_density\n",
      "mean nan, std nan\n",
      "\n",
      "threshold: 0.200000\n",
      "low solution_density\n",
      "mean 0.008578, std 0.022843\n",
      "high solution_density\n",
      "mean nan, std nan\n",
      "\n"
     ]
    }
   ],
   "source": [
    "for thres in [0.01, 0.05, 0.1, 0.15, 0.2]:\n",
    "    print 'threshold: %lf' % thres\n",
    "    threshold_mean_std(df, thres, 'solution_density')\n",
    "    print"
   ]
  },
  {
   "cell_type": "markdown",
   "metadata": {},
   "source": [
    "Same goes for solution density, although we don't have much diversity in its values."
   ]
  }
 ],
 "metadata": {
  "kernelspec": {
   "display_name": "Python 2",
   "language": "python",
   "name": "python2"
  },
  "language_info": {
   "codemirror_mode": {
    "name": "ipython",
    "version": 2
   },
   "file_extension": ".py",
   "mimetype": "text/x-python",
   "name": "python",
   "nbconvert_exporter": "python",
   "pygments_lexer": "ipython2",
   "version": "2.7.12"
  }
 },
 "nbformat": 4,
 "nbformat_minor": 1
}
